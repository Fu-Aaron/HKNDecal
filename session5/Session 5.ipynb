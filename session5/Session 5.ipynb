{
 "cells": [
  {
   "cell_type": "code",
   "execution_count": null,
   "metadata": {},
   "outputs": [],
   "source": [
    "import deborahscript\n",
    "import utils"
   ]
  },
  {
   "cell_type": "markdown",
   "metadata": {},
   "source": [
    "## Simple GCD Program"
   ]
  },
  {
   "cell_type": "code",
   "execution_count": null,
   "metadata": {},
   "outputs": [],
   "source": [
    "deborahscript.run(\"gcd.ds\")"
   ]
  },
  {
   "cell_type": "markdown",
   "metadata": {
    "collapsed": true
   },
   "source": [
    "## What sequence is this?"
   ]
  },
  {
   "cell_type": "code",
   "execution_count": null,
   "metadata": {},
   "outputs": [],
   "source": [
    "%%ds\n",
    "CAREFULLY x SAME (INTINPUT) CAT\n",
    "CAREFULLY a SAME (1) CAT\n",
    "DRINK (x) COFFEE\n",
    "    a SAME ((a) * (x)) CAT\n",
    "    x SAME ((x) - (1)) CAT\n",
    "CAT\n",
    "MEOW (a) CAT"
   ]
  },
  {
   "cell_type": "markdown",
   "metadata": {},
   "source": [
    "## Can you write Fibonacci?"
   ]
  },
  {
   "cell_type": "code",
   "execution_count": null,
   "metadata": {},
   "outputs": [],
   "source": [
    "%%ds"
   ]
  },
  {
   "cell_type": "markdown",
   "metadata": {},
   "source": [
    "### Can you add a \"~\" binary operation into DeborahScript (a ~ b)?\n",
    "\n",
    "Open up deborahscript.tx and find BinaryOp. Add an option for ~ the same way the other operations are done."
   ]
  },
  {
   "cell_type": "markdown",
   "metadata": {},
   "source": [
    "### Can you support the \"~\" operation in the interpreter?\n",
    "\n",
    "Open up deborahscript.py and go to the marked section. You may implement the a ~ b however you want."
   ]
  },
  {
   "cell_type": "markdown",
   "metadata": {
    "collapsed": true
   },
   "source": [
    "# Operating Systems"
   ]
  },
  {
   "cell_type": "markdown",
   "metadata": {},
   "source": [
    "## Virtual Memory"
   ]
  },
  {
   "cell_type": "markdown",
   "metadata": {},
   "source": [
    "Try running the small program below called \"crash\". It tries to write over other apps' memory. Without virtual memory, \"crash\" might be able to bring down your entire computer, but with virtual memory, its effects will be much more limited. Run it below."
   ]
  },
  {
   "cell_type": "code",
   "execution_count": null,
   "metadata": {},
   "outputs": [],
   "source": [
    "%%sh\n",
    "./crash"
   ]
  },
  {
   "cell_type": "markdown",
   "metadata": {},
   "source": [
    "See how it says \"Segmentation fault\"? That's a fancy way of saying that the `crash` program just crashed. That's because the operating system detected that it was attempting to access other programs' memory, said, \"you've been a bad program\", and stopped it. It wasn't able to damage other programs, because it was isolated from other programs' memory."
   ]
  },
  {
   "cell_type": "markdown",
   "metadata": {},
   "source": [
    "## The Filesystem"
   ]
  },
  {
   "cell_type": "markdown",
   "metadata": {},
   "source": [
    "### Who's logged in to the same computer as you?"
   ]
  },
  {
   "cell_type": "markdown",
   "metadata": {},
   "source": [
    "Find out using the `who` command:"
   ]
  },
  {
   "cell_type": "code",
   "execution_count": null,
   "metadata": {},
   "outputs": [],
   "source": [
    "!who"
   ]
  },
  {
   "cell_type": "markdown",
   "metadata": {},
   "source": [
    "(Note that you can type any of the commands in this section in a terminal window too. Just leave out the `!` at the beginning.)\n",
    "\n",
    "If you're lucky, you'll see several usernames output in the first column above. Those are all people logged in to the computer you're using right now. Some of them are remotely logged in; others have logged in before you and simply forgotten to log out."
   ]
  },
  {
   "cell_type": "markdown",
   "metadata": {},
   "source": [
    "One function of operating systems is to protect users from snooping on each other's activities. Operating systems implement this by using a permissions system. Let's see that in action.\n",
    "\n",
    "First, let's look at your own files:"
   ]
  },
  {
   "cell_type": "code",
   "execution_count": null,
   "metadata": {},
   "outputs": [],
   "source": [
    "!ls"
   ]
  },
  {
   "cell_type": "markdown",
   "metadata": {},
   "source": [
    "Now, let's try to look at the files of some random user, like `cs199-abc`:"
   ]
  },
  {
   "cell_type": "code",
   "execution_count": null,
   "metadata": {},
   "outputs": [],
   "source": [
    "!ls /home/cc/cs199/fa13/class/cs199-abc"
   ]
  },
  {
   "cell_type": "markdown",
   "metadata": {
    "collapsed": true
   },
   "source": [
    "Unsurprisingly, the operating system denied us permission to nose around `cs199-abc`'s home folder. Let's see why this is:"
   ]
  },
  {
   "cell_type": "code",
   "execution_count": null,
   "metadata": {},
   "outputs": [],
   "source": [
    "!ls -ld /home/cc/cs199/fa13/class/cs199-abc"
   ]
  },
  {
   "cell_type": "markdown",
   "metadata": {},
   "source": [
    "The third column in the output above tells us that the folder `/home/cc/cs199/fa13/class/cs199-abc` is owned by the user `cs199-abc`. And in this case, they haven't granted anyone but themselves access to that folder. (If you learn the output format of `ls`, then you can find that out by reading the first column.) Thus, the OS denies our attempt to access that folder."
   ]
  },
  {
   "cell_type": "markdown",
   "metadata": {},
   "source": [
    "Perhaps you might've seen `/home/cc/cs199/fa13/class/cs199-abc` just enough times now to be wondering what that means. On Unix-based systems (which include GNU/Linux, which you're using right now, and macOS), all files and folders on the system are organized into a hierarchy. The folder at the top of the hierarchy is called `/`. Let's see what's inside that folder:"
   ]
  },
  {
   "cell_type": "code",
   "execution_count": null,
   "metadata": {},
   "outputs": [],
   "source": [
    "!ls -F /"
   ]
  },
  {
   "cell_type": "markdown",
   "metadata": {},
   "source": [
    "Every entry you see in the above output is a file or folder inside the `/` folder. The entries that end with a `/` are subfolders. The entries that end with an `@` are _symbolic links_, which are links to other files (we won't worry about them now).\n",
    "\n",
    "Let's see what's inside the subfolder called `home`:"
   ]
  },
  {
   "cell_type": "code",
   "execution_count": null,
   "metadata": {},
   "outputs": [],
   "source": [
    "!ls -F /home"
   ]
  },
  {
   "cell_type": "markdown",
   "metadata": {},
   "source": [
    "Some more subfolders. Let's go inside the `cc` folder:"
   ]
  },
  {
   "cell_type": "code",
   "execution_count": null,
   "metadata": {},
   "outputs": [],
   "source": [
    "!ls -F /home/cc"
   ]
  },
  {
   "cell_type": "markdown",
   "metadata": {},
   "source": [
    "Whoa. That was a lot of folders.\n",
    "\n",
    "If `/home/cc/cs199/fa13/class/cs199-abc` is the home folder of `cs199-abc` (an account presumably created in Fall 2013), do you want to guess what your home folder might be?\n",
    "\n",
    "Let's see if you can find your way to your home folder, one step at a time. Replace `<FOLDER PATH>` with the folder paths you think are appropriate."
   ]
  },
  {
   "cell_type": "code",
   "execution_count": null,
   "metadata": {},
   "outputs": [],
   "source": [
    "!ls -F <FOLDER PATH>"
   ]
  },
  {
   "cell_type": "code",
   "execution_count": null,
   "metadata": {},
   "outputs": [],
   "source": [
    "!ls -F <FOLDER PATH>"
   ]
  },
  {
   "cell_type": "code",
   "execution_count": null,
   "metadata": {},
   "outputs": [],
   "source": [
    "!ls -F <FOLDER PATH>"
   ]
  },
  {
   "cell_type": "markdown",
   "metadata": {},
   "source": [
    "Yay, you've arrived! Let's recap what we learned:\n",
    "\n",
    "1.  All the files on the system are organized into a hierarchy.\n",
    "2.  Your home folder, which is named after your username, lives inside a folder called `class`.\n",
    "3.  That folder in turn lives inside a folder named after the current semester.\n",
    "4.  That folder in turn lives inside a folder named after whatever class the account you're using was issued for.\n",
    "5.  That folder in turn lives inside a folder named `cc`.\n",
    "6.  That folder in turn lives inside a folder named `home`.\n",
    "7.  The `home` folder lives inside the root folder `/`, which is at the top of the hierarchy.\n",
    "8.  The slashes in a folder's path (e.g. `/home/cc/cs199/fa13/class/cs199-abc`) indicate which folders you traverse in order to get from the root directory to that folder.\n",
    "\n",
    "But ultimately, all data in files and folders is stored on hard drives (or SSDs). And hard drives are just spinning platters of magnetic fields. They don't know anything about hierarchies. Operating systems use _file systems_ to translate between the hierarchies you see and the bits on the hard drive. File systems are an abstraction: they let you divide and organize your data into files and folders without you having to worry about how that data is stored on disk."
   ]
  }
 ],
 "metadata": {
  "kernelspec": {
   "display_name": "Python 2",
   "language": "python",
   "name": "python2"
  },
  "language_info": {
   "codemirror_mode": {
    "name": "ipython",
    "version": 2
   },
   "file_extension": ".py",
   "mimetype": "text/x-python",
   "name": "python",
   "nbconvert_exporter": "python",
   "pygments_lexer": "ipython2",
   "version": "2.7.12"
  }
 },
 "nbformat": 4,
 "nbformat_minor": 2
}
