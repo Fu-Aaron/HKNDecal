{
 "cells": [
  {
   "cell_type": "markdown",
   "metadata": {},
   "source": [
    "# Compilers and Languages"
   ]
  },
  {
   "cell_type": "code",
   "execution_count": null,
   "metadata": {},
   "outputs": [],
   "source": [
    "!pip install textx\n",
    "import deborahscript\n",
    "import utils"
   ]
  },
  {
   "cell_type": "markdown",
   "metadata": {},
   "source": [
    "## Simple GCD Program"
   ]
  },
  {
   "cell_type": "code",
   "execution_count": null,
   "metadata": {},
   "outputs": [],
   "source": [
    "deborahscript.run(\"gcd.ds\")"
   ]
  },
  {
   "cell_type": "markdown",
   "metadata": {
    "collapsed": true
   },
   "source": [
    "## What sequence is this?"
   ]
  },
  {
   "cell_type": "code",
   "execution_count": null,
   "metadata": {},
   "outputs": [],
   "source": [
    "%%ds\n",
    "CAREFULLY x SAME (INTINPUT) CAT\n",
    "CAREFULLY a SAME (1) CAT\n",
    "DRINK (x) COFFEE\n",
    "    a SAME ((a) * (x)) CAT\n",
    "    x SAME ((x) - (1)) CAT\n",
    "CAT\n",
    "MEOW (a) CAT"
   ]
  },
  {
   "cell_type": "markdown",
   "metadata": {},
   "source": [
    "#### Factorial"
   ]
  },
  {
   "cell_type": "markdown",
   "metadata": {},
   "source": [
    "## Can you write Fibonacci?"
   ]
  },
  {
   "cell_type": "code",
   "execution_count": null,
   "metadata": {},
   "outputs": [],
   "source": [
    "%%ds\n",
    "CAREFULLY x SAME (INTINPUT) CAT\n",
    "CAREFULLY y SAME (2) CAT\n",
    "CAREFULLY table SAME (#) CAT\n",
    "(0)@table SAME (0) CAT\n",
    "(1)@table SAME (1) CAT\n",
    "DRINK ((x) > ((y) - (1))) COFFEE\n",
    "    (y)@table SAME ((((y) - (1))@(table)) + (((y) - (2))@(table))) CAT\n",
    "    y SAME ((y) + (1)) CAT\n",
    "CAT\n",
    "MEOW ((x)@(table)) CAT"
   ]
  },
  {
   "cell_type": "markdown",
   "metadata": {
    "collapsed": true
   },
   "source": [
    "# Operating Systems"
   ]
  },
  {
   "cell_type": "markdown",
   "metadata": {},
   "source": [
    "## Virtual Memory"
   ]
  },
  {
   "cell_type": "markdown",
   "metadata": {},
   "source": [
    "Try running the small program below called \"crash\". It tries to write over other apps' memory. Without virtual memory, \"crash\" might be able to bring down your entire computer, but with virtual memory, its effects will be much more limited. Run it below."
   ]
  },
  {
   "cell_type": "code",
   "execution_count": null,
   "metadata": {},
   "outputs": [],
   "source": [
    "%%sh\n",
    "./crash"
   ]
  },
  {
   "cell_type": "markdown",
   "metadata": {},
   "source": [
    "See how it says \"Segmentation fault\"? That's a fancy way of saying that the `crash` program just crashed. That's because the operating system detected that it was attempting to access other programs' memory, said, \"you've been a bad program\", and stopped it. It wasn't able to damage other programs, because it was isolated from other programs' memory."
   ]
  },
  {
   "cell_type": "markdown",
   "metadata": {},
   "source": [
    "## The Filesystem"
   ]
  },
  {
   "cell_type": "markdown",
   "metadata": {},
   "source": [
    "### Understanding Directories and the ls command"
   ]
  },
  {
   "cell_type": "markdown",
   "metadata": {},
   "source": [
    "One function of operating systems is to protect users from snooping on each other's activities. Operating systems implement this by using a permissions system. Let's see that in action.\n",
    "\n",
    "First, let's look at your own files:"
   ]
  },
  {
   "cell_type": "code",
   "execution_count": 5,
   "metadata": {},
   "outputs": [
    {
     "name": "stdout",
     "output_type": "stream",
     "text": [
      "code.ds\t\t  filesys\t       Session 5 Solutions.ipynb\r\n",
      "crash\t\t  gcd.ds\t       Session 5 Uncorrupted.ipynb\r\n",
      "crash.c\t\t  notlikethis.ds       Session 5 Uncorrupted-Newest.ipynb\r\n",
      "deborahscript.py  Session 5.ipynb      utils.py\r\n",
      "deborahscript.tx  Session 5_new.ipynb  virtmem\r\n"
     ]
    }
   ],
   "source": [
    "!ls"
   ]
  },
  {
   "cell_type": "markdown",
   "metadata": {},
   "source": [
    "The `ls` command lets us take a look at the items in your current directory in the filesystem. You can think of your current directory as the environment in which you are currently operating in. You can see that these are items from the directory of the github binder we have set up for you. What is the name of this directory that we are in? You can find out your current directory with the pwd command (which stands for pwd)"
   ]
  },
  {
   "cell_type": "code",
   "execution_count": 9,
   "metadata": {},
   "outputs": [
    {
     "name": "stdout",
     "output_type": "stream",
     "text": [
      "/home/fboensch/hkndecal/HKNDecal/session5\r\n"
     ]
    }
   ],
   "source": [
    "!pwd"
   ]
  },
  {
   "cell_type": "markdown",
   "metadata": {},
   "source": [
    "You should see the directory `/home/jovyan/session5`, Don't worry about the specifics of jovyan (this is a jupiter notebook thing)"
   ]
  },
  {
   "cell_type": "markdown",
   "metadata": {},
   "source": [
    "Looking back at the results of the 'ls' command, some of these are files, like `deborahscript.txt`. The other item type  you see is a directory. An example of this is `filesys`. We can say that `filesys` is a *subdirectory* of the `session5` directory. Use the ls command followed by the directory you want to look into to see the items in the filesys directory (remember to  use ! before each command)"
   ]
  },
  {
   "cell_type": "code",
   "execution_count": null,
   "metadata": {},
   "outputs": [],
   "source": []
  },
  {
   "cell_type": "markdown",
   "metadata": {},
   "source": [
    "### cat, cp, and rm"
   ]
  },
  {
   "cell_type": "markdown",
   "metadata": {},
   "source": [
    "Now you can see a list of files in the `filesys` directory. Lets take a look at several command line tools we can use to have a better understanding of the filesystem."
   ]
  },
  {
   "cell_type": "markdown",
   "metadata": {},
   "source": [
    "For files that contain text, we are given the built in `cat` command. This command allows us to look at the text inside of a file. The form of the command is `cat <file path>`. Try to read the contents of `thetext.txt` (remember that we can't simply say the name of the file because we are not in the filesys directory. For example if we wanted to call a funtion on the file `car.txt`, we would need to call `<function_name> filesys/car.txt`"
   ]
  },
  {
   "cell_type": "code",
   "execution_count": null,
   "metadata": {},
   "outputs": [],
   "source": []
  },
  {
   "cell_type": "markdown",
   "metadata": {},
   "source": [
    "Once you are able to display the text in `thetext.txt`, try and display the content of `emptytxt.txt` (hint, should be empty)"
   ]
  },
  {
   "cell_type": "markdown",
   "metadata": {},
   "source": [
    "Now let's say we wanted to make a copy of `thetext.txt`, we can use the `cp` command. The copy command creates a copy of a given file. It has the form `cp <source_file_path> <destination_path>`. Lets say that you wanted to copy the file `empty.txt` to a new file called `stillempty.txt` (both in filesys directory). We would use the form `cp filesys/empty.txt filesys/stillempty.txt`.\n",
    "\n",
    "Now use the command to make a copy of `thetext.txt` into a new file of your choice."
   ]
  },
  {
   "cell_type": "code",
   "execution_count": null,
   "metadata": {},
   "outputs": [],
   "source": []
  },
  {
   "cell_type": "markdown",
   "metadata": {},
   "source": [
    "Now that we have the copy of the file, lets say that we wanted to now remove the original. We can use the `rm` command. This command allows us to remove files and directories. For example lets say that we wanted to remove the `emptytext.txt` file, we would call `rm filesys/emptytext.txt`.\n",
    "#### Use rm to delete the original thetext.txt that we just copied. Then use an ls command to see that the file was deleted (and renamed from the previous section)"
   ]
  },
  {
   "cell_type": "code",
   "execution_count": null,
   "metadata": {},
   "outputs": [],
   "source": []
  },
  {
   "cell_type": "markdown",
   "metadata": {},
   "source": [
    "Now we just copied a file to a new name and deleted the original. This is similar to simply renaming a file. Luckily we have the `mv` command that does just this. `mv` takes a file and \"moves\" it to a new location with a specified name (similar to renaming). The format for a `mv` call is: `mv  <source_file_path> <destination_path>`. For example if we wanted to rename `emptytext.txt` to `useless.txt`, we would call `move filesys/emptytext.txt filesys/useless.txt`\n",
    "#### Use mv to move/rename the file that you created back to thetext.txt (keep it in the same directory). Use an ls command to confirm this was done correctly"
   ]
  },
  {
   "cell_type": "code",
   "execution_count": null,
   "metadata": {},
   "outputs": [],
   "source": []
  }
 ],
 "metadata": {
  "kernelspec": {
   "display_name": "Python 2",
   "language": "python",
   "name": "python2"
  },
  "language_info": {
   "codemirror_mode": {
    "name": "ipython",
    "version": 2
   },
   "file_extension": ".py",
   "mimetype": "text/x-python",
   "name": "python",
   "nbconvert_exporter": "python",
   "pygments_lexer": "ipython2",
   "version": "2.7.12"
  }
 },
 "nbformat": 4,
 "nbformat_minor": 2
}
