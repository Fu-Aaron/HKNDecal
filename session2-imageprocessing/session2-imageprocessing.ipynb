{
 "cells": [
  {
   "cell_type": "code",
   "execution_count": null,
   "metadata": {},
   "outputs": [],
   "source": [
    "!pip install scipy\n",
    "!pip install sklearn\n",
    "!pip install textx\n",
    "!pip install matplotlib"
   ]
  },
  {
   "cell_type": "code",
   "execution_count": null,
   "metadata": {},
   "outputs": [],
   "source": [
    "from __future__ import print_function\n",
    "from IPython.display import Audio\n",
    "from scipy.misc import face\n",
    "from scipy.io import wavfile\n",
    "from scipy import signal\n",
    "from os.path import getsize\n",
    "from sklearn.cluster import KMeans\n",
    "from sklearn.utils import shuffle\n",
    "from util import *\n",
    "%pylab inline"
   ]
  },
  {
   "cell_type": "markdown",
   "metadata": {},
   "source": [
    "## Instructions \n",
    "This is an iPython notebook. iPython makes it easy to run small snippets in\n",
    "  Python code to see what happens! Here are some useful commands to use:\n",
    "   \n",
    "  1. Click on a cell (will have a green outline around it) and press\n",
    "      SHIFT+ENTER to run the code in the cell. Make sure you run the top cell\n",
    "      first, because it contains important import statements!\n",
    "      \n",
    "  2. You can also run a cell, or all the cells, using the 'Cell' menu up top.\n",
    "  \n",
    "  3. Save your work with CTRL+S, or in the File menu.\n",
    "  \n",
    "  If you have any questions, just ask!"
   ]
  },
  {
   "cell_type": "markdown",
   "metadata": {},
   "source": [
    "# 1 - Images"
   ]
  },
  {
   "cell_type": "markdown",
   "metadata": {},
   "source": [
    "## 1.1 Images as matrices of numbers\n",
    "\n",
    "For the following section, create some pixel art in greyscale. That means\n",
    "using numbers from 0-1, 0 being totally black and 1 being totally white.\n",
    "\n",
    "Don't spend tooooo much time on this, but make sure your picture has some\n",
    "different shades of grey. Press SHIFT+ENTER while hovering on this cell to\n",
    "update your changes."
   ]
  },
  {
   "cell_type": "code",
   "execution_count": null,
   "metadata": {},
   "outputs": [],
   "source": [
    "# Feel free to modify the numbers below to change the colors\n",
    "my_image = np.array(\n",
    "    [\n",
    "        [1, 0.75, 0.5, 0.25, 0.0, 0.0, 0.0, 0.0],\n",
    "        [0.0, 0.0, 0.0, 0.0, 0.0, 0.0, 0.0, 0.0],\n",
    "        [0.0, 0.0, 0.0, 0.0, 0.0, 0.0, 0.0, 0.1],\n",
    "        [0.0, 0.0, 0.0, 0.0, 0.0, 0.0, 0.1, 0.2],\n",
    "        [0.0, 0.0, 0.0, 0.0, 0.0, 0.1, 0.2, 0.3],\n",
    "        [0.0, 0.0, 0.0, 0.0, 0.1, 0.2, 0.3, 0.4],\n",
    "        [0.0, 0.0, 0.0, 0.1, 0.2, 0.3, 0.4, 0.5],\n",
    "        [0.0, 0.0, 0.1, 0.2, 0.3, 0.4, 0.5, 0.6],\n",
    "    ],\n",
    "    dtype=np.float\n",
    ")\n",
    "im_show_gray(my_image)"
   ]
  },
  {
   "cell_type": "markdown",
   "metadata": {},
   "source": [
    "## 1.2 Image Masking"
   ]
  },
  {
   "cell_type": "markdown",
   "metadata": {},
   "source": [
    "What if I wanted to make put a watermark or a YouTube annotation on the image? I have to overlay my image on top of your image. Let's say that my annotation, which is 9 pixels, looks like this:"
   ]
  },
  {
   "cell_type": "code",
   "execution_count": null,
   "metadata": {},
   "outputs": [],
   "source": [
    "annotation = np.array([[0.5, 0.9, 0.5],\n",
    "                       [0.9, 0.5, 0.9],\n",
    "                       [0.5, 0.9, 0.5]],\n",
    "                     dtype=float)\n",
    "im_show_gray(annotation)"
   ]
  },
  {
   "cell_type": "markdown",
   "metadata": {},
   "source": [
    "Overlaying the images takes a couple steps:\n",
    "\n",
    "1. Create an image that is totally blank except for my annotation, exactly where I want it. \n",
    "2. Create a mask with 1s and 0s that correspond to the part of the image that takes up the annotation. Multiplying this mask with the image will remove that part of the original image (an AND operation).\n",
    "3. \"Add\" the two images together (OR operation). The final result will have your image with my annotation in the corner!"
   ]
  },
  {
   "cell_type": "markdown",
   "metadata": {},
   "source": [
    "#### Step 1: Create annotation image"
   ]
  },
  {
   "cell_type": "code",
   "execution_count": null,
   "metadata": {},
   "outputs": [],
   "source": [
    "print(\"\\n\\nHere is an image with all zeros except for my annotation:\\n\")\n",
    "\n",
    "annotation_in_corner = np.array(\n",
    "    [\n",
    "        [0.0, 0.0, 0.0, 0.0, 0.0, 0.0, 0.0, 0.0],\n",
    "        [0.0, 0.0, 0.0, 0.0, 0.0, 0.0, 0.0, 0.0],\n",
    "        [0.0, 0.0, 0.0, 0.0, 0.0, 0.0, 0.0, 0.0],\n",
    "        [0.0, 0.0, 0.0, 0.0, 0.0, 0.0, 0.0, 0.0],\n",
    "        [0.0, 0.0, 0.0, 0.0, 0.0, 0.0, 0.0, 0.0],\n",
    "        [0.0, 0.0, 0.0, 0.0, 0.0, 0.5, 0.9, 0.5],\n",
    "        [0.0, 0.0, 0.0, 0.0, 0.0, 0.9, 0.5, 0.9],\n",
    "        [0.0, 0.0, 0.0, 0.0, 0.0, 0.5, 0.9, 0.5],\n",
    "    ],\n",
    "    dtype=np.float\n",
    ")\n",
    "im_show_gray(annotation_in_corner)"
   ]
  },
  {
   "cell_type": "markdown",
   "metadata": {},
   "source": [
    "#### Step 2: Create Bitmask and multiply (AND) by the original image"
   ]
  },
  {
   "cell_type": "code",
   "execution_count": null,
   "metadata": {},
   "outputs": [],
   "source": [
    "print(\"\\nThis bitmask will keep all of the pixels of your image except for the bottom 9 in the corner\\\n",
    " when I multiply it with your image. In effect, the pixel is nonzero if my pixel AND yours are nonzero.\")\n",
    "\n",
    "bitmask = np.array(\n",
    "    [\n",
    "        [1.0, 1.0, 1.0, 1.0, 1.0, 1.0, 1.0, 1.0],\n",
    "        [1.0, 1.0, 1.0, 1.0, 1.0, 1.0, 1.0, 1.0],\n",
    "        [1.0, 1.0, 1.0, 1.0, 1.0, 1.0, 1.0, 1.0],\n",
    "        [1.0, 1.0, 1.0, 1.0, 1.0, 1.0, 1.0, 1.0],\n",
    "        [1.0, 1.0, 1.0, 1.0, 1.0, 1.0, 1.0, 1.0],\n",
    "        [1.0, 1.0, 1.0, 1.0, 1.0, 0.0, 0.0, 0.0],\n",
    "        [1.0, 1.0, 1.0, 1.0, 1.0, 0.0, 0.0, 0.0],\n",
    "        [1.0, 1.0, 1.0, 1.0, 1.0, 0.0, 0.0, 0.0],\n",
    "    ],\n",
    "    dtype=np.float\n",
    ")\n",
    "im_show_gray(bitmask)"
   ]
  },
  {
   "cell_type": "code",
   "execution_count": null,
   "metadata": {
    "scrolled": false
   },
   "outputs": [],
   "source": [
    "print(\"\\nNow, let's multiply my bitmask and your image together! This is what the array looks like:\\n\")\n",
    "\n",
    "my_image_masked = my_image * bitmask\n",
    "print(my_image_masked)\n",
    "im_show_gray(my_image_masked)"
   ]
  },
  {
   "cell_type": "markdown",
   "metadata": {},
   "source": [
    "#### Step 3: Finally, let's create the end image!"
   ]
  },
  {
   "cell_type": "code",
   "execution_count": null,
   "metadata": {},
   "outputs": [],
   "source": [
    "result = my_image_masked + annotation_in_corner\n",
    "\n",
    "im_show_gray(result)"
   ]
  },
  {
   "cell_type": "markdown",
   "metadata": {},
   "source": [
    "## 1.3 Image Transformations\n",
    "\n",
    "Now that we have an image, we can make modifications to it by changing each pixel's value in a systematic way. \n",
    "\n",
    "We can brighten, darken, change the white balance, or change the color of the image with simple lines of code!\n",
    "\n",
    "Let's apply some transformations to your image! Try to guess what each code block is doing before you run it."
   ]
  },
  {
   "cell_type": "markdown",
   "metadata": {},
   "source": [
    "#### 1.3.0 The original image"
   ]
  },
  {
   "cell_type": "code",
   "execution_count": null,
   "metadata": {},
   "outputs": [],
   "source": [
    "my_image = result\n",
    "print(my_image)\n",
    "im_show_gray(result)"
   ]
  },
  {
   "cell_type": "markdown",
   "metadata": {},
   "source": [
    "#### 1.3.1 What would IPython show?!?!\n",
    "\n",
    "This is the first transformation. Run the code block when you're ready."
   ]
  },
  {
   "cell_type": "code",
   "execution_count": null,
   "metadata": {},
   "outputs": [],
   "source": [
    "my_image2 = my_image.copy()\n",
    "\n",
    "for row_index, row in enumerate(my_image2):\n",
    "    for pixel_index, pixel in enumerate(row):\n",
    "        my_image2[row_index][pixel_index] = 1 if pixel > .5 else 0 # this is the important part!\n",
    "                                                                   # what does it do?\n",
    "    \n",
    "print(\".ot resolc saw ti eno hcihw no desab ,etihw ro kcalb rehtie ot lexip hcae strevnoc noitamrofsnart\\\n",
    " siht rof edoc ehT\"[::-1])\n",
    "print(my_image2)\n",
    "im_show_gray(my_image2)"
   ]
  },
  {
   "cell_type": "markdown",
   "metadata": {},
   "source": [
    "#### 1.3.2 What would IPython show?"
   ]
  },
  {
   "cell_type": "code",
   "execution_count": null,
   "metadata": {},
   "outputs": [],
   "source": [
    "my_image3 = np.array(my_image, copy=True)\n",
    "\n",
    "my_filter = -0.5\n",
    "\n",
    "for row_index, row in enumerate(my_image3):\n",
    "    for pixel_index, pixel in enumerate(row):\n",
    "        my_image3[row_index][pixel_index] = min(max(pixel + my_filter, 0), 1) #money line right here\n",
    "\n",
    "print(\"\\nHere is what the matrix looks like:\\n\")\n",
    "print(my_image3)\n",
    "print(\"?neppah lliw kniht uoy od tahW .evitisop ti gnikam neve ro elbairav retlif_ym eht gnignahc\\\n",
    " yrT !ti ot tnuoma tnatsnoc a sdda dna rebmun hcae sekat tI .retlif gninethgil a si eno sihT\\n\\n\"[::-1])\n",
    "\n",
    "im_show_gray(my_image3)"
   ]
  },
  {
   "cell_type": "markdown",
   "metadata": {},
   "source": [
    "#### 1.3.3 Filtering with full-sized images\n",
    "\n",
    "Now let's work with a real image. This image has way more pixels than your pixel art, but the\n",
    "structure is exactly the same! [note: not *exactly* the same, because the numbers are now from 0-255.] \n",
    "\n",
    "Let's apply some of the same \"filters\" that we applied to your pixel art. We'll start with a greyscale version."
   ]
  },
  {
   "cell_type": "code",
   "execution_count": null,
   "metadata": {},
   "outputs": [],
   "source": [
    "raccoon_gray = face(True)\n",
    "im_show_gray(raccoon_gray)"
   ]
  },
  {
   "cell_type": "code",
   "execution_count": null,
   "metadata": {},
   "outputs": [],
   "source": [
    "# Run this code to apply the black and white filter\n",
    "raccoon_gray_bw = raccoon_gray.copy()\n",
    "for row_index, row in enumerate(raccoon_gray_bw):\n",
    "    for pixel_index, pixel in enumerate(row):\n",
    "        raccoon_gray_bw[row_index][pixel_index] = 255 if pixel > 128 else 0\n",
    "        \n",
    "im_show_gray(raccoon_gray_bw)"
   ]
  },
  {
   "cell_type": "code",
   "execution_count": null,
   "metadata": {},
   "outputs": [],
   "source": [
    "# Run this code to apply the darkening and lightening filter.\n",
    "raccoon_gray_darken = raccoon_gray.copy()\n",
    "\n",
    "# add a darkening (negative) or lightening (positive) amount here!\n",
    "# remember that the values range from 0-255 now.\n",
    "my_filter = -100\n",
    "\n",
    "for row_index, row in enumerate(raccoon_gray):\n",
    "    for pixel_index, pixel in enumerate(row):\n",
    "        raccoon_gray_darken[row_index][pixel_index] = min(max(pixel + my_filter, 0), 255)   \n",
    "\n",
    "im_show_gray(raccoon_gray_darken)"
   ]
  },
  {
   "cell_type": "markdown",
   "metadata": {},
   "source": [
    "#### 1.3.4 Working with color images\n",
    "\n",
    "For our final step, let's work with color. Now, instead of there being one number for each pixel, there are three. These are the Red, Green, and Blue (RGB) values that you've probably heard of. \n",
    "\n",
    "We can manipulate these values in a similar way as with greyscale, but now we have even more creative control. Let's give our raccoon a nice Instagram filter."
   ]
  },
  {
   "cell_type": "code",
   "execution_count": null,
   "metadata": {},
   "outputs": [],
   "source": [
    "# First, view the original picture in all its glory!\n",
    "raccoon = face()\n",
    "plt.imshow(raccoon)\n",
    "# Notice that each \"item\" of the data grid is now 3 values\n",
    "# corresponding to Red, Green, and Blue values between 0 and 255\n",
    "# The code below prints the top left corner, in a 3x3 region\n",
    "print(raccoon[:3, :3, ...])"
   ]
  },
  {
   "cell_type": "code",
   "execution_count": null,
   "metadata": {},
   "outputs": [],
   "source": [
    "# Now, it's time to modify the color values. We will boost some colors by increasing their magnitude.\n",
    "raccoon_filtered = raccoon.copy()\n",
    "\n",
    "# play around with these values if you want!\n",
    "red_boost = -10\n",
    "green_boost = 45\n",
    "blue_boost = 30\n",
    "lighten = -20\n",
    "\n",
    "# darken or lighten the image a little bit.\n",
    "red_boost += lighten\n",
    "green_boost += lighten\n",
    "blue_boost += lighten\n",
    "\n",
    "for row_index, row in enumerate(raccoon_filtered):\n",
    "    for pixel_index, pixel in enumerate(row):\n",
    "        # at this point, pixel is a length-3 array corresponding to the R, G, and B values of the pixel\n",
    "        \n",
    "        # change the color balance and make sure all values are between 0 and 255\n",
    "        pixel[0] = min(max(pixel[0] + red_boost, 0), 255)\n",
    "        pixel[1] = min(max(pixel[1] + green_boost, 0), 255)\n",
    "        pixel[2] = min(max(pixel[2] + blue_boost, 0), 255)\n",
    "            \n",
    "plt.imshow(raccoon_filtered)"
   ]
  },
  {
   "cell_type": "markdown",
   "metadata": {},
   "source": [
    "## 1.4 Image Compression by Grouping Similar Pixels\n",
    "\n",
    "The raccoon image above takes $768 \\times  1024 \\times 3 = 2359296 \\text{ bytes} = 2.36 \\text{MB}$ (each number is uint8, which is 1 byte).\n",
    "\n",
    "That's pretty big for one picture! To put that in perspective, a one minute long video running at 24 frames per second using the above encoding will have a size of $2.36 * 24 * 60 = 3398.4 \\text{ MB} = 3.4 \\text{ GB}$!\n",
    "\n",
    "One way to compress images is by reducing the amount of unique colors in the image. \n",
    "\n",
    "The code below groups an image's pixels by color into n clusters, and it replaces each pixel in the image with the center of the cluster that the pixel belongs to."
   ]
  },
  {
   "cell_type": "code",
   "execution_count": null,
   "metadata": {},
   "outputs": [],
   "source": [
    "def compress_im(im, n_clusters, samples=1000):\n",
    "    '''Compresses color image by finding the top n_groups of pixels, \n",
    "    then replacing all pixels with their closest neighbor in that group.\n",
    "    \n",
    "    Don't worry about the specifics of this function.\n",
    "    '''\n",
    "    # house keeping code to massage the data formats\n",
    "    if im.dtype == np.uint8:\n",
    "        im = im.astype(np.float64)/255        \n",
    "    shape = im.shape    \n",
    "    im_X = im.reshape(shape[0]*shape[1], 3)\n",
    "    im_X_to_sample = im_X.copy()\n",
    "    shuffle(im_X_to_sample)\n",
    "    im_X_sampled = im_X_to_sample[:samples]\n",
    "    \n",
    "    # using KMeans algorithm to find n clusters\n",
    "    kmeans = KMeans(n_clusters=n_clusters).fit(im_X_sampled)\n",
    "    \n",
    "    # reconstructing compressed image with the found clusters\n",
    "    centers = kmeans.cluster_centers_\n",
    "    group_assignments = kmeans.predict(im_X)\n",
    "    im_Y = np.take(centers, group_assignments, axis=0)\n",
    "    im_compressed = im_Y.reshape(shape[0], shape[1], 3)\n",
    "    return im_compressed"
   ]
  },
  {
   "cell_type": "code",
   "execution_count": null,
   "metadata": {},
   "outputs": [],
   "source": [
    "print(\"Original image has roughly {}\".format(im_size(raccoon)))"
   ]
  },
  {
   "cell_type": "markdown",
   "metadata": {},
   "source": [
    "Vary the number of clusters and see how the results change!\n",
    "\n",
    "1. What happens when you just have 1 cluster? 2?\n",
    "2. How many clusters do you need to have more than \"1\" dimension of color?\n",
    "3. What's the minimum number of clusters so that you can't tell the difference between the original and the compressed image?"
   ]
  },
  {
   "cell_type": "code",
   "execution_count": null,
   "metadata": {},
   "outputs": [],
   "source": [
    "n_clusters = 10\n",
    "compressed_raccoon = compress_im(raccoon, n_clusters)\n",
    "plt.imshow(compressed_raccoon)\n",
    "print(\"Compressed image has roughly {}\".format(im_size(compressed_raccoon)))"
   ]
  },
  {
   "cell_type": "markdown",
   "metadata": {},
   "source": [
    "# 2 - Audio"
   ]
  },
  {
   "cell_type": "markdown",
   "metadata": {},
   "source": [
    "Like images, sounds are also just arrays of numbers that describe the \"intensity\" of the sound at each step. \n",
    "\n",
    "Sound files need to specify a \"sample rate\" in the unit of Hertz (1/second), which describes how frequent each \"intensity\" step is. \n",
    "\n",
    "For example a sound file with a sample rate of 10 means its numbers describe sound intensities that change every 0.1s.\n",
    "\n",
    "Standard quality audio often has a samplte rate of 44100 = 44k. Meaning the sound intensity can very 44 thousand times in a second!"
   ]
  },
  {
   "cell_type": "markdown",
   "metadata": {},
   "source": [
    "### 2.1 Sounds as numbers in time domain\n",
    "\n",
    "Instructions:\n",
    "1. Use the following code to visualize and play the \"A\" chord. \n",
    "2. Vary the sample rate to higher and lower numbers - can you hear the difference?\n",
    "3. Change the frequencies array to a sequence of other keys (see a mapping of keys to frequencies [here](https://pages.mtu.edu/~suits/notefreqs.html))"
   ]
  },
  {
   "cell_type": "code",
   "execution_count": null,
   "metadata": {
    "scrolled": false
   },
   "outputs": [],
   "source": [
    "# Play around with these values!\n",
    "frequencies = [440, 554.37, 659.25]\n",
    "sample_rate = 44100\n",
    "\n",
    "# Constructing audio\n",
    "samples = np.asarray([np.sin(np.linspace(0, 2 * np.pi * frequency, sample_rate)) for frequency in frequencies])\n",
    "\n",
    "# Displaying plot\n",
    "data_rate = sample_rate\n",
    "data = np.sum(samples, axis=0)\n",
    "plt.plot(range(len(data)), data, alpha=0.3)\n",
    "plt.title(\"Time Domain Intensities\")\n",
    "plt.ylabel(\"Intensity\")\n",
    "plt.xlabel(\"Time step\")\n",
    "\n",
    "Audio(np.concatenate(list(samples) + [np.sum(samples, axis=0)]), rate=sample_rate)"
   ]
  },
  {
   "cell_type": "markdown",
   "metadata": {},
   "source": [
    "To visualize the frequencies of the audio above, we will convert 0.1s \"chunks\" of the song into the frequency domain."
   ]
  },
  {
   "cell_type": "code",
   "execution_count": null,
   "metadata": {},
   "outputs": [],
   "source": [
    "plt.imshow(20*np.log10(to_chunks(data, 1, sample_rate))[:1000], interpolation=\"none\", aspect=\"auto\", cmap='nipy_spectral')"
   ]
  },
  {
   "cell_type": "markdown",
   "metadata": {},
   "source": [
    "### 2.2 Sounds as numbers in frequency domain\n",
    "\n",
    "\"Frequency\" encoding is very similar to the dictionary-based encoding scheme above. Instead of each key referring to a word, each key here refers to a \"chunk\" of sound played at the specified frequency of that key.\n",
    "\n",
    "1. Look at \"lullaby.txt\" for the frequency (keys) encoding of the lullaby.\n",
    "2. Run the following code to listen to the audio file."
   ]
  },
  {
   "cell_type": "code",
   "execution_count": null,
   "metadata": {},
   "outputs": [],
   "source": [
    "length = 256\n",
    "sampling_rate = 44100*16\n",
    "\n",
    "# Change this to change the number of beats per minute\n",
    "beats_per_minute = 100\n",
    "\n",
    "song = load_song(\"lullaby.txt\") # change the file name to whatever you created\n",
    "frequencies = song_to_frequencies(song)\n",
    "\n",
    "# Replace the names with the part names you chose\n",
    "song_parts = [\"melody\", \"harmony\", \"left_hand_high\", \"left_hand_low\"]\n",
    "song_data = sum(frequencies_to_stream(frequencies[name], sampling_rate, beats_per_minute) for name in song_parts)\n",
    "Audio(smooth(song_data, 256)[::int(sampling_rate/44100)], rate=44100)"
   ]
  },
  {
   "cell_type": "markdown",
   "metadata": {},
   "source": [
    "Run the following code to visualize \"chunks\" of the lullaby in the frequency domain\n",
    "\n",
    "What does it look like?"
   ]
  },
  {
   "cell_type": "code",
   "execution_count": null,
   "metadata": {},
   "outputs": [],
   "source": [
    "sheet_music = np.log10(to_chunks(song_data, 1, data_rate) + 0.001)[:120][::-1]\n",
    "plt.imshow(sheet_music, interpolation=\"none\", aspect=\"auto\", cmap='nipy_spectral')"
   ]
  },
  {
   "cell_type": "markdown",
   "metadata": {},
   "source": [
    "## Compression\n",
    "Below is the compression ratio for the song. Notice that if we store the file as text (as a list of frequencies) rather than raw audio data (which is a list of bytes over time), we can reduce the size of the data."
   ]
  },
  {
   "cell_type": "code",
   "execution_count": null,
   "metadata": {},
   "outputs": [],
   "source": [
    "print(\"Sheet music size:\", song_data.nbytes, \"bytes\")\n",
    "print(\"Audio data size:\", getsize(\"lullaby.txt\"), \"bytes\")\n",
    "print(\"Total compression ratio:\", song_data.nbytes / float(getsize(\"lullaby.txt\")))"
   ]
  },
  {
   "cell_type": "markdown",
   "metadata": {},
   "source": [
    "Try modifying the file \"lullaby.txt\" with your own notes or writing your own file!\n",
    "\n",
    "Notes are written in standard notation (i.e. Bb3) means the third B-flat. Rests are written as N.\n",
    "\n",
    "Ab3 4 means play the third A-flat for 4 beats.\n",
    "\n",
    "Each part must have the same number of beats."
   ]
  },
  {
   "cell_type": "markdown",
   "metadata": {},
   "source": [
    "## Edit lullaby.txt like:\n",
    "[part_name_1]\n",
    "notes\n",
    "\n",
    "[part_name_2]\n",
    "notes"
   ]
  },
  {
   "cell_type": "markdown",
   "metadata": {},
   "source": [
    "Run the previous two sections of the notebook again, replacing \"melody\", \"harmony\" and the other names with your part names."
   ]
  },
  {
   "cell_type": "markdown",
   "metadata": {
    "collapsed": true
   },
   "source": [
    "## 2.3 Compression in JPEG (Optional)"
   ]
  },
  {
   "cell_type": "markdown",
   "metadata": {},
   "source": [
    "Similar to audio, there can also be frequencies found in 2D images. It turns out, we can describe any 8x8 image as the coefficients of 64 different \"basis images\", each with different frequencies horizontally and vertically. \n",
    "\n",
    "Below is a look at how analyzing these 2d frequencies are used in practice, specifically for JPEG compression!"
   ]
  },
  {
   "cell_type": "code",
   "execution_count": null,
   "metadata": {},
   "outputs": [],
   "source": [
    "# Here is what some of those 2d frequencies look like.\n",
    "# play around with the x and y frequencies by \n",
    "# toggling x_factor and y_factor!\n",
    "\n",
    "x_factor = 7 # should be between 0 and 8.\n",
    "y_factor = 7 # should be between 0 and 8.\n",
    "base_freq = np.pi / 16.0\n",
    "\n",
    "# creates the (i, j) basis image of the discrete cosine transform (DCT) used in JPEG\n",
    "def basis_image(x_fact, y_fact):\n",
    "    image = np.array(\n",
    "        [\n",
    "        [np.cos(base_freq * x_fact * (2*j + 1)) * np.cos(base_freq * y_fact * (2*i + 1)) for j in range(8)] \n",
    "         for i in range(8)\n",
    "        ]\n",
    "        ,\n",
    "        dtype=np.float)\n",
    "\n",
    "    image = 0.5 * (image + 1) # scaling / shifting so every value is between 0 and 1\n",
    "    return image\n",
    "\n",
    "im_show_gray(basis_image(x_factor, y_factor))\n"
   ]
  },
  {
   "cell_type": "markdown",
   "metadata": {},
   "source": [
    "When we linearly combine two or more of these basis images, we can get really complex patterns!\n",
    "\n",
    "This is useful in compression, as we can combine these images to make a lot of the same patterns you would see in an actual image."
   ]
  },
  {
   "cell_type": "code",
   "execution_count": null,
   "metadata": {},
   "outputs": [],
   "source": [
    "basis_1 = basis_image(4, 1)\n",
    "basis_2 = basis_image(5, 5)\n",
    "\n",
    "alpha = 0.3 # what fraction of the first image to add\n",
    "\n",
    "im_show_gray(alpha * basis_1 + (1 - alpha) * basis_2)"
   ]
  },
  {
   "cell_type": "markdown",
   "metadata": {},
   "source": [
    "JPEG works by breaking up every 8x8 pixel chunk of an image, and calculating the 64 coefficients of these basis images that would all add together to recreate it.\n",
    "\n",
    "You may be wondering where the compression in this is-- the original chunk had 64 pixels, so wouldn't storing the 64 coefficients not be any better?\n",
    "\n",
    "This is exactly right. Where JPEG gets its compression is by throwing away coefficients it doesn't need. For example, if an image doesn't recquire high-detailed texture, one can throw away the high frequency images and still have a fairly recognizable overall image. Also, if some of the coefficients are very small, it may be better not to add them to the final JPEG at all."
   ]
  },
  {
   "cell_type": "code",
   "execution_count": null,
   "metadata": {},
   "outputs": [],
   "source": [
    "import scipy.fftpack as fft"
   ]
  },
  {
   "cell_type": "code",
   "execution_count": null,
   "metadata": {},
   "outputs": [],
   "source": [
    "# CREDIT: Frank Ong for EE 123:\n",
    "# https://inst.eecs.berkeley.edu/~ee123/sp16/Sections/JPEG_DCT_Demo.html\n",
    "\n",
    "# Without going into too much detail, this code determines the 64 \n",
    "# coefficients for each 8x8 chunk, then removes the ones that are not larger\n",
    "# than some threshold. Once the low coefficients are gone, it recreates the \n",
    "# image by adding back all those scaled basis images we calculated earlier.\n",
    "\n",
    "def dct2(a):\n",
    "    return fft.dct( fft.dct( a, axis=0, norm='ortho' ), axis=1, norm='ortho' )\n",
    "\n",
    "def idct2(a):\n",
    "    return fft.idct( fft.idct( a, axis=0 , norm='ortho'), axis=1 , norm='ortho')\n",
    "\n",
    "def jpeg_compress_img(im, threshold):\n",
    "    imsize = im.shape # dimensions of the image\n",
    "    dct = np.zeros(im.shape) # creating an empty image to store the frequency coefficients\n",
    "    \n",
    "    # Do 8x8 DCT on image (in-place), using fancy numpy indexing magic!\n",
    "    for i in r_[:imsize[0]:8]:\n",
    "        for j in r_[:imsize[1]:8]:\n",
    "            dct[i:(i+8),j:(j+8)] = dct2( im[i:(i+8),j:(j+8)] )\n",
    "            \n",
    "    # Applying threshold to each block:\n",
    "    \n",
    "    dct_thresh = dct * (abs(dct) > (thresh*np.max(dct)))\n",
    "    \n",
    "    percent_nonzeros = np.sum( dct_thresh != 0.0 ) / (imsize[0]*imsize[1]*1.0)\n",
    "\n",
    "    print(\"Keeping only %f%% of the DCT coefficients\" % (percent_nonzeros*100.0))\n",
    "    \n",
    "    # getting back the compressed image\n",
    "    \n",
    "    im_dct = np.zeros(imsize)\n",
    "    \n",
    "    for i in r_[:imsize[0]:8]:\n",
    "        for j in r_[:imsize[1]:8]:\n",
    "            im_dct[i:(i+8),j:(j+8)] = idct2( dct_thresh[i:(i+8),j:(j+8)] )\n",
    "            \n",
    "    # normalize:\n",
    "    \n",
    "    arrMax = np.amax(im_dct)\n",
    "    \n",
    "    im_dct = im_dct / arrMax\n",
    "    \n",
    "    return im_dct"
   ]
  },
  {
   "cell_type": "code",
   "execution_count": null,
   "metadata": {},
   "outputs": [],
   "source": [
    "original_raccoon = raccoon_gray.copy()\n",
    "im_show_gray(original_raccoon)"
   ]
  },
  {
   "cell_type": "code",
   "execution_count": null,
   "metadata": {},
   "outputs": [],
   "source": [
    "thresh = .3 # increase to decrease quality.\n",
    "compressed_raccoon = jpeg_compress_img(original_raccoon, thresh)\n",
    "im_show_gray(compressed_raccoon)"
   ]
  },
  {
   "cell_type": "code",
   "execution_count": null,
   "metadata": {},
   "outputs": [],
   "source": []
  }
 ],
 "metadata": {
  "anaconda-cloud": {},
  "kernelspec": {
   "display_name": "Python 3",
   "language": "python",
   "name": "python3"
  },
  "language_info": {
   "codemirror_mode": {
    "name": "ipython",
    "version": 3
   },
   "file_extension": ".py",
   "mimetype": "text/x-python",
   "name": "python",
   "nbconvert_exporter": "python",
   "pygments_lexer": "ipython3",
   "version": "3.6.7"
  }
 },
 "nbformat": 4,
 "nbformat_minor": 1
}
