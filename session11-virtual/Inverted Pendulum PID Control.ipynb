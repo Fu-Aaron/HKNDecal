{
 "cells": [
  {
   "cell_type": "markdown",
   "metadata": {},
   "source": [
    "In this lab, we will be seeing how we can use PID control to stabilize systems that are generally very unstable."
   ]
  },
  {
   "cell_type": "code",
   "execution_count": 1,
   "metadata": {},
   "outputs": [],
   "source": [
    "import numpy as np,math,time,matplotlib.pyplot as plt,sys\n",
    "from ipywidgets import interact, interactive, fixed, interact_manual\n",
    "import ipywidgets as widgets"
   ]
  },
  {
   "cell_type": "code",
   "execution_count": 2,
   "metadata": {},
   "outputs": [],
   "source": [
    "class Cart:\n",
    "    def __init__(self,x,mass):\n",
    "        self.x = x  \n",
    "        self.y = 0\n",
    "        self.mass = mass\n",
    "\n",
    "class Pendulum:\n",
    "    def __init__(self,length,theta,ball_mass):\n",
    "        self.length = length\n",
    "        self.theta = theta\n",
    "        self.ball_mass = ball_mass"
   ]
  },
  {
   "cell_type": "code",
   "execution_count": 3,
   "metadata": {},
   "outputs": [],
   "source": [
    "#Constants:\n",
    "g = 9.81\n"
   ]
  },
  {
   "cell_type": "code",
   "execution_count": 4,
   "metadata": {},
   "outputs": [],
   "source": [
    "def PID_Control(cart, pendulum, dt, error, previous_error, integral, Kp=-150, Kd=-20, Ki=-20):\n",
    "    # Using PID to find control inputs\n",
    "\n",
    "    # The gains were emperically tuned\n",
    "\n",
    "    derivative = (error - previous_error) / dt\n",
    "    integral += error * dt\n",
    "    Output_force = (Kp * error) + (Kd * derivative) + (Ki * integral)\n",
    "    return Output_force, integral"
   ]
  },
  {
   "cell_type": "code",
   "execution_count": 5,
   "metadata": {},
   "outputs": [],
   "source": [
    "#These apply a force F using the equations of motion for the cart and pendulum.\n",
    "\n",
    "def Apply_Force(cart, pendulum, F, dtime, x_2, dtheta, theta_2, previous_dtime):\n",
    "    \n",
    "    a_theta = (((cart.mass + pendulum.ball_mass) * g * math.sin(pendulum.theta)) + (F * math.cos(pendulum.theta)) - \\\n",
    "        (pendulum.ball_mass * ((dtheta)**2.0) * pendulum.length * math.sin(pendulum.theta) * math.cos(pendulum.theta))) \\\n",
    "         / (pendulum.length * (cart.mass + (pendulum.ball_mass * (math.sin(pendulum.theta)**2.0)))) \n",
    "    \n",
    "    a_x = ((pendulum.ball_mass * g * math.sin(pendulum.theta) * math.cos(pendulum.theta)) - \\\n",
    "        (pendulum.ball_mass * pendulum.length * math.sin(pendulum.theta) * (dtheta**2)) + (F)) \\\n",
    "         / (cart.mass + (pendulum.ball_mass * (math.sin(pendulum.theta)**2)))\n",
    "    \n",
    "    cart.x += ((dtime**2) * a_x) + (((cart.x - x_2) * dtime) / previous_dtime)\n",
    "    \n",
    "    pendulum.theta += ((dtime**2)*a_theta) + (((pendulum.theta - theta_2)*dtime) / previous_dtime)\n"
   ]
  },
  {
   "cell_type": "code",
   "execution_count": 6,
   "metadata": {},
   "outputs": [],
   "source": [
    "def find_error(pendulum):\n",
    "\n",
    "    # This function returns the error\n",
    "    error = (pendulum.theta % (2 * math.pi)) - 0\n",
    "    if error > math.pi:\n",
    "        error -= (2 * math.pi)\n",
    "    return error"
   ]
  },
  {
   "cell_type": "code",
   "execution_count": 7,
   "metadata": {},
   "outputs": [],
   "source": [
    "def plot_graphs(times,errors,theta,force,x):\n",
    "    # This function plots all the graphs\n",
    "    plt.figure(figsize=(20,10))\n",
    "    \n",
    "    plt.subplot(4, 1, 1)\n",
    "    plt.plot(times,errors,'-b')\n",
    "    plt.ylabel('Error')\n",
    "    plt.xlabel('Time')\n",
    "\n",
    "    plt.subplot(4, 1, 2)\n",
    "    plt.plot(times,theta,'-b')\n",
    "    plt.ylabel('Theta')\n",
    "    plt.xlabel('Time')\n",
    "\n",
    "    plt.subplot(4, 1, 3)\n",
    "    plt.plot(times,force,'-b')\n",
    "    plt.ylabel('Force')\n",
    "    plt.xlabel('Time')\n",
    "\n",
    "    plt.subplot(4, 1, 4)\n",
    "    plt.plot(times,x,'-b')\n",
    "    plt.ylabel('X')\n",
    "    plt.xlabel('Time')\n",
    "\n",
    "    plt.show()"
   ]
  },
  {
   "cell_type": "code",
   "execution_count": 8,
   "metadata": {},
   "outputs": [],
   "source": [
    "#Making it a function:\n",
    "\n",
    "def runSim(mass_of_cart=5, mass_of_ball=1, Kp=-150, Kd=-20, Ki=-20):\n",
    "    \n",
    "    print(\"Simulating with mass_of_cart={0}, mass_of_ball={1}, Kp={2}, Kd={3}, Ki={4}...\".format(mass_of_cart, mass_of_ball, Kp, Kd, Ki))\n",
    "    \n",
    "    cart = Cart(0, mass_of_cart)\n",
    "    pendulum = Pendulum(1, 0.3, mass_of_ball)\n",
    "    \n",
    "    errors, force, theta, times, x = [],[],[],[],[]\n",
    "    simulation_time = 40\n",
    "    previous_timestamp = time.time()\n",
    "    start_time = previous_timestamp\n",
    "    end_time = previous_timestamp + simulation_time\n",
    "    \n",
    "    d_theta = 0\n",
    "    theta_1 = theta_2 = pendulum.theta # x_{t-1} = x_{t-2} = pendulum starting point\n",
    "    x_1 = x_2 = cart.x\n",
    "    previous_error = find_error(pendulum)\n",
    "    integral = 0\n",
    "    previous_dtime = 0\n",
    "    \n",
    "    while time.time() <= end_time:\n",
    "    \n",
    "    #calculating timestep (dtime) and the current error.\n",
    "        current_timestamp = time.time()\n",
    "        dtime = (current_timestamp - previous_timestamp)\n",
    "        error = find_error(pendulum)\n",
    "    \n",
    "        if previous_dtime != 0: # This condition is to make sure that theta_dot is not infinity in the first step\n",
    "        \n",
    "        \n",
    "        #finding the derivatives of the angle and x position over the timestep.\n",
    "            d_theta = (theta_1 - theta_2 ) / previous_dtime\n",
    "            d_x = (x_1 - x_2) / previous_dtime\n",
    "        \n",
    "        #finding the control and applying it to the card.\n",
    "            F,integral = PID_Control(cart, pendulum, dtime, error, previous_error, integral, Kp=Kp, Kd=Kd, Ki=Ki)\n",
    "            Apply_Force(cart, pendulum, F, dtime, x_2, d_theta, theta_2, previous_dtime)\n",
    "        \n",
    "        # For plotting the graphs\n",
    "        \n",
    "            force.append(F)            \n",
    "            x.append(cart.x)\n",
    "            errors.append(error)\n",
    "            times.append(current_timestamp - start_time)\n",
    "            theta.append(pendulum.theta)\n",
    "        \n",
    "    # Update the variables\n",
    "        \n",
    "        previous_dtime = dtime\n",
    "        previous_timestamp = current_timestamp\n",
    "        previous_error = error\n",
    "    \n",
    "        theta_2 = theta_1\n",
    "        theta_1 = pendulum.theta\n",
    "        x_2 = x_1\n",
    "        x_1 = cart.x\n",
    "\n",
    "    plot_graphs(times,errors,theta,force,x)\n",
    "    print(\"Done.\")\n",
    "    \n",
    "    \n",
    "    "
   ]
  },
  {
   "cell_type": "code",
   "execution_count": 9,
   "metadata": {},
   "outputs": [
    {
     "data": {
      "application/vnd.jupyter.widget-view+json": {
       "model_id": "b00872662a914c5685bb18bf5b7cffde",
       "version_major": 2,
       "version_minor": 0
      },
      "text/plain": [
       "interactive(children=(IntSlider(value=5, description='mass_of_cart', max=10, min=1), IntSlider(value=1, descri…"
      ]
     },
     "metadata": {},
     "output_type": "display_data"
    },
    {
     "data": {
      "text/plain": [
       "<function __main__.runSim(mass_of_cart=5, mass_of_ball=1, Kp=-150, Kd=-20, Ki=-20)>"
      ]
     },
     "execution_count": 9,
     "metadata": {},
     "output_type": "execute_result"
    }
   ],
   "source": [
    "interact(runSim, mass_of_cart=widgets.IntSlider(min=1, max=10, step=1, value=5), \\\n",
    "                 mass_of_ball=widgets.IntSlider(min=1, max=10, step=1, value=1), \\\n",
    "                 Kp=widgets.IntSlider(min=-200, max=200, step=5, value=-150), \\\n",
    "                 Kd=widgets.IntSlider(min=-200, max=200, step=5, value=-20), \\\n",
    "                 Ki=widgets.IntSlider(min=-200, max=200, step=5, value=-20))"
   ]
  },
  {
   "cell_type": "markdown",
   "metadata": {},
   "source": [
    "REFERENCES:\n",
    "\n",
    "Based off of:\n",
    "\n",
    "https://github.com/Nikkhil16/Inverted_Pendulum, <-- Especially this one!\n",
    "\n",
    "https://www.moorepants.info/blog/npendulum.html\\,\n",
    "\n",
    "https://github.com/gilbertgede/idetc-2013-paper/blob/master/n-pendulum-control.ipynb,\n",
    "\n",
    "\n"
   ]
  },
  {
   "cell_type": "code",
   "execution_count": null,
   "metadata": {},
   "outputs": [],
   "source": [
    "'''\n",
    "Need to do: \n",
    "\n",
    "Make the graphs better, \n",
    "\n",
    "Add more visuals and explanations / documentation.\n",
    "\n",
    "Reorganize the functions to make it more smooth.\n",
    "\n",
    "Have a way to see what changing the PID coefficients does in real time.\n",
    "\n",
    "\n",
    "'''"
   ]
  },
  {
   "cell_type": "code",
   "execution_count": null,
   "metadata": {},
   "outputs": [],
   "source": []
  }
 ],
 "metadata": {
  "kernelspec": {
   "display_name": "Python 3",
   "language": "python",
   "name": "python3"
  },
  "language_info": {
   "codemirror_mode": {
    "name": "ipython",
    "version": 3
   },
   "file_extension": ".py",
   "mimetype": "text/x-python",
   "name": "python",
   "nbconvert_exporter": "python",
   "pygments_lexer": "ipython3",
   "version": "3.7.7"
  }
 },
 "nbformat": 4,
 "nbformat_minor": 2
}
