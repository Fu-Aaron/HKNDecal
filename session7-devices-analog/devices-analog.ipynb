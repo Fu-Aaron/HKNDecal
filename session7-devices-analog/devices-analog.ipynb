{
 "cells": [
  {
   "cell_type": "markdown",
   "metadata": {},
   "source": [
    "# Devices and Analog Circuits Lab\n",
    "\n"
   ]
  },
  {
   "cell_type": "markdown",
   "metadata": {},
   "source": [
    "## Relaxation Oscillator\n",
    "\n",
    "This is a relaxation oscillator, which makes a periodic square wave output signal. Try changing the resistance and see how the circuit responds!\n",
    "\n",
    "### How it works\n",
    "With some starting voltage on the capacitor, the Op Amp (Operational Amplifier - triangle block in the middle) is in positive feedback, and acts as a comparator. It will output a voltage of either $V_{dd}$ (5V) or $V_{ss}$ (-5V) depending on whether the positive input or the negative input has a higher voltage. The voltage at the positive input is set by a voltage divider, so that it is a fraction of the output voltage of the op amp. This can be varied by changing the resistance of the variable resistor (potentiometer).\n",
    "\n",
    "### Applications\n",
    "Relaxation oscillators are primerily used to generate low frequency signals. Some common applications include:\n",
    " - Blinking Lights (Turn signals, indicator lights, for example)\n",
    " - Analog to Digital Converters\n",
    " - Voltage Controlled Oscillators (for FM/phase modulation)\n",
    " - Function generators\n",
    " - Clock generators in digital circuits\n",
    " - Inverters (power electronics, DC to AC conversion)\n"
   ]
  },
  {
   "cell_type": "code",
   "execution_count": 8,
   "metadata": {
    "scrolled": false,
    "tags": [
     "remove_input",
     "remove-input"
    ]
   },
   "outputs": [
    {
     "data": {
      "text/html": [
       "<iframe width=\"800\" height=\"600\" src=\"https://hkn.mu/decal-analogcircuits\"></iframe>\n"
      ],
      "text/plain": [
       "<IPython.core.display.HTML object>"
      ]
     },
     "metadata": {},
     "output_type": "display_data"
    }
   ],
   "source": [
    "%%html\n",
    "<iframe width=\"800\" height=\"600\" src=\"https://hkn.mu/decal-analogcircuits\"></iframe>"
   ]
  },
  {
   "cell_type": "markdown",
   "metadata": {},
   "source": [
    "## Bridge Rectifier\n",
    "\n",
    "This is a very common circuit that is widely used in power supplies to convert alternating current (AC) to direct current (DC). It makes use of the rectifying characteristics of diodes, which allow current to only flow in one direction. Try changing the capacitance and frequency values to see how they affect the circuit!\n",
    "\n",
    "### How it works\n",
    "\n",
    "When the input signal has positive polarity, current flows through diode 2 through the output and back around through diode 4 to the voltage source. When the input signal has negative polarity, current flows through diode 3 through the output and back around through diode 1 to the voltage source.\n",
    "\n",
    "The capacitor at the output is known as a \"smoothing capacitor.\" It essentially smooths out the output, which originally looks like a half wave, by storing some charge and discharging very slowly. This results in an output that looks more or less constant (DC).\n"
   ]
  },
  {
   "cell_type": "code",
   "execution_count": 6,
   "metadata": {},
   "outputs": [
    {
     "data": {
      "text/html": [
       "<iframe src=\"https://drive.google.com/file/d/1kiCHsdUWrl-hYuKGmZ7EJ-jigG8QjExq/preview\" width=\"640\" height=\"480\"></iframe>\n"
      ],
      "text/plain": [
       "<IPython.core.display.HTML object>"
      ]
     },
     "metadata": {},
     "output_type": "display_data"
    }
   ],
   "source": [
    "%%html\n",
    "<iframe src=\"https://tinyurl.com/yg2womoz\" width=\"800\" height=\"600\"></iframe>"
   ]
  }
 ],
 "metadata": {
  "kernelspec": {
   "display_name": "Python 3 (ipykernel)",
   "language": "python",
   "name": "python3"
  },
  "language_info": {
   "codemirror_mode": {
    "name": "ipython",
    "version": 3
   },
   "file_extension": ".py",
   "mimetype": "text/x-python",
   "name": "python",
   "nbconvert_exporter": "python",
   "pygments_lexer": "ipython3",
   "version": "3.8.11"
  }
 },
 "nbformat": 4,
 "nbformat_minor": 4
}
