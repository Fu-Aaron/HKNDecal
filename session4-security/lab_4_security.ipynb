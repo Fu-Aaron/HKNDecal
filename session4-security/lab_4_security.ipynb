{
 "cells": [
  {
   "cell_type": "markdown",
   "metadata": {},
   "source": [
    "# Lab 4: Security\n",
    "### Going Down the EECS Stack\n",
    "\n",
    "-----"
   ]
  },
  {
   "cell_type": "markdown",
   "metadata": {},
   "source": [
    "<a id='part0'></a>\n",
    "# <span style=\"color:navy\">Part 0: Introduction </span>\n",
    "-----"
   ]
  },
  {
   "cell_type": "markdown",
   "metadata": {},
   "source": [
    "Welcome to EECS Decal Session 4: Computer Security!\n",
    "\n",
    "In this demo, you will be exploring a few examples of common web attacks\n",
    "through a sample to-do list application.\n",
    "\n",
    "Here is the web attacks that you will go over:\n",
    "- XSS (Cross-Site-Scripting)\n",
    "- SQL Injection\n",
    "- Clickjacking\n",
    "\n",
    "\n",
    "First, we will observe the effects of Cross-site scripting in two forms:\n",
    "\n",
    "\t1. Stored XSS\n",
    "\t2. Reflected XSS\n",
    "\n",
    "Then, we will show an example of SQL Injection which may result in some\n",
    "interesting effects to your to-do list website. ;)"
   ]
  },
  {
   "cell_type": "markdown",
   "metadata": {},
   "source": [
    "<a id='part1'></a>\n",
    "# <span style=\"color:navy\">Part 1: Common Web Attacks </span>\n",
    "-----"
   ]
  },
  {
   "cell_type": "markdown",
   "metadata": {},
   "source": [
    "<a id='part1_xss'></a>\n",
    "### <span style=\"color:navy\">XSS (Cross-Site-Scripting) attacks </span>\n",
    "-----"
   ]
  },
  {
   "cell_type": "markdown",
   "metadata": {},
   "source": [
    "XSS attacks happens when an application receives and run data that contains malicious Javascript code. This can be done by passing input that contains a [\\<script\\> tag](https://www.w3schools.com/tags/tag_script.asp).\n",
    "\n",
    "#### <span style=\"color:navy\">What is a script tag?</span>\n",
    "\n",
    "Script tag is a type of HTML tag that lets you put Javascript in it. The script inside the script tag is executed as the browser processes the markup. \n",
    "\n",
    "For example: \\<script\\>alert(\"lol\")\\</script\\>\n",
    "\n",
    "Later in this lab, we will explore an example where we pass an input containing a \\<script\\> tag to our todo list database and observe its payload when we reload the database. \n",
    "\n",
    "For more information about XSS attacks, see [here](https://www.acunetix.com/websitesecurity/cross-site-scripting/)"
   ]
  },
  {
   "cell_type": "markdown",
   "metadata": {},
   "source": [
    "<a id='part1_sql'></a>\n",
    "### <span style=\"color:navy\">SQL Injection </span>\n",
    "-----"
   ]
  },
  {
   "cell_type": "markdown",
   "metadata": {},
   "source": [
    "SQL injection is a code injection technique that allows an attacker to interfere the queries between an application and its database.\n",
    "\n",
    "Bad things can happen when unsanitized input is executed.\n",
    "\n",
    "For example, consider the following code that is part of a database system:"
   ]
  },
  {
   "cell_type": "code",
   "execution_count": 3,
   "metadata": {
    "scrolled": true
   },
   "outputs": [
    {
     "name": "stdout",
     "output_type": "stream",
     "text": [
      "DELETE FROM todos WHERE items = 'EECS Decal'\n"
     ]
    }
   ],
   "source": [
    "#...\n",
    "#... cursor = sqlite3.connect('db.sql3').cursor  # do not uncomment this\n",
    "#... \n",
    "#...\n",
    "\n",
    "happy_query = 'EECS Decal'\n",
    "\n",
    "query = {'name': [happy_query]}\n",
    "todo_item_name = query['name'][0]\n",
    "sql = \"\"\"DELETE FROM todos WHERE items = '{}'\"\"\".format(todo_item_name)\n",
    "\n",
    "#... cursor.executescript(sql)\n",
    "print(sql)"
   ]
  },
  {
   "cell_type": "markdown",
   "metadata": {},
   "source": [
    "The sql that the cursor will execute is \"DELETE FROM todos WHERE items = 'EECS Decal'\". So far so good.\n",
    "However, if an attacker inputs the following text instead:"
   ]
  },
  {
   "cell_type": "code",
   "execution_count": 3,
   "metadata": {},
   "outputs": [
    {
     "name": "stdout",
     "output_type": "stream",
     "text": [
      "DELETE FROM todos WHERE items = '' OR ''=''\n"
     ]
    }
   ],
   "source": [
    "#...\n",
    "#... cursor = sqlite3.connect('db.sql3').cursor  # do not uncomment this\n",
    "#... \n",
    "#...\n",
    "\n",
    "evil_query = \"' OR ''='\"\n",
    "\n",
    "query = {'name': [evil_query]}\n",
    "todo_item_name = query['name'][0]\n",
    "sql = \"\"\"DELETE FROM todos WHERE items = '{}'\"\"\".format(todo_item_name)\n",
    "\n",
    "#... cursor.executescript(sql)\n",
    "print(sql)"
   ]
  },
  {
   "cell_type": "markdown",
   "metadata": {},
   "source": [
    "This is not good. Since ''='' is always true, the DELETE statement is going to delete every entry in the table. rip.\n",
    "\n",
    "But Why stop at DELETE? Let's see what we can do with the INSERT command.\n",
    "\n",
    "This is what we expect an INSERT command to do:"
   ]
  },
  {
   "cell_type": "code",
   "execution_count": 4,
   "metadata": {},
   "outputs": [
    {
     "name": "stdout",
     "output_type": "stream",
     "text": [
      "INSERT INTO todos VALUES('EECS Decal')\n"
     ]
    }
   ],
   "source": [
    "#...\n",
    "#... cursor = sqlite3.connect('db.sql3').cursor  # do not uncomment this\n",
    "#... \n",
    "#...\n",
    "\n",
    "happy_query = 'EECS Decal'\n",
    "\n",
    "query = {'name': [happy_query]}\n",
    "todo_item_name = query['name'][0]\n",
    "sql = \"\"\"INSERT INTO todos VALUES('{}')\"\"\".format(todo_item_name)\n",
    "\n",
    "#... cursor.executescript(sql)\n",
    "print(sql)"
   ]
  },
  {
   "cell_type": "markdown",
   "metadata": {},
   "source": [
    "If someone is not satisfied with deleting everything on the table, but wants to get rid of the table as well, they might come up with a mischievous command that looks like this:"
   ]
  },
  {
   "cell_type": "code",
   "execution_count": 7,
   "metadata": {},
   "outputs": [
    {
     "name": "stdout",
     "output_type": "stream",
     "text": [
      "INSERT INTO todos VALUES('have a great day'); DROP TABLE todos--')\n"
     ]
    }
   ],
   "source": [
    "#...\n",
    "#... cursor = sqlite3.connect('db.sql3').cursor  # do not uncomment this\n",
    "#... \n",
    "#...\n",
    "\n",
    "mischievous_query = \"have a great day'); DROP TABLE todos--\"\n",
    "\n",
    "query = {'name': [mischievous_query]}\n",
    "todo_item_name = query['name'][0]\n",
    "sql = \"\"\"INSERT INTO todos VALUES('{}')\"\"\".format(todo_item_name)\n",
    "\n",
    "#... cursor.executescript(sql)\n",
    "print(sql)"
   ]
  },
  {
   "cell_type": "markdown",
   "metadata": {},
   "source": [
    "Here's a comic from [xkcd](https://xkcd.com/327/) to explain what would happen in theory:\n",
    "\n",
    "<img src=\"files/exploits_of_a_mom.png\">\n",
    "\n",
    "But fortunately, the server later in this demo does not respond to this attack. Phew."
   ]
  },
  {
   "cell_type": "markdown",
   "metadata": {},
   "source": [
    "<a id='part1_clickjack'></a>\n",
    "### <span style=\"color:navy\">Clickjacking </span>\n",
    "-----"
   ]
  },
  {
   "cell_type": "markdown",
   "metadata": {},
   "source": [
    "Clickjacking is a technique that tricks the user into clicking something that is different from what the user sees ([wikipedia: Clickjacking](https://www.google.com/)).\n",
    "\n",
    "<a style=\"color: inherit; text-decoration: none;\" href=\"https://en.wikipedia.org/wiki/Clickjacking\" title=\"No decoration\">lol</a>. Here's the real link: [real link to wikipedia](https://www.google.com/)\n",
    "\n",
    "... not really. The \"lol\" is the real real link if you click on it. \n",
    "\n",
    "I hope you get the point. What you see might not be what you think it is."
   ]
  },
  {
   "cell_type": "markdown",
   "metadata": {},
   "source": [
    "<a id='part2'></a>\n",
    "# <span style=\"color:navy\">Part 2: Demo </span>\n",
    "-----"
   ]
  },
  {
   "cell_type": "markdown",
   "metadata": {},
   "source": [
    "First, run the following cell. A link should print (http://localhost:1050) and use Google Chrome to open it. Using other browsers might lead to buggy behavior."
   ]
  },
  {
   "cell_type": "code",
   "execution_count": null,
   "metadata": {
    "scrolled": true
   },
   "outputs": [
    {
     "name": "stdout",
     "output_type": "stream",
     "text": [
      "Serving SQL Injection Demo at http://localhost:1050\n"
     ]
    },
    {
     "name": "stderr",
     "output_type": "stream",
     "text": [
      "127.0.0.1 - - [22/Nov/2020 15:41:26] \"GET /css/bootstrap.min.css HTTP/1.1\" 200 -\n",
      "127.0.0.1 - - [22/Nov/2020 15:41:26] \"GET /css/bootstrap-theme.min.css HTTP/1.1\" 200 -\n",
      "127.0.0.1 - - [22/Nov/2020 15:41:26] \"GET /css/main.css HTTP/1.1\" 200 -\n",
      "127.0.0.1 - - [22/Nov/2020 15:41:26] \"GET /js/vendor/modernizr-2.8.3.min.js HTTP/1.1\" 200 -\n",
      "127.0.0.1 - - [22/Nov/2020 15:41:26] \"GET /js/vendor/bootstrap.min.js HTTP/1.1\" 200 -\n",
      "127.0.0.1 - - [22/Nov/2020 15:41:26] \"GET /js/main.js HTTP/1.1\" 200 -\n",
      "127.0.0.1 - - [22/Nov/2020 15:41:26] \"GET /api/todos HTTP/1.1\" 200 -\n",
      "127.0.0.1 - - [22/Nov/2020 15:41:26] \"GET / HTTP/1.1\" 200 -\n"
     ]
    }
   ],
   "source": [
    "%run server.py"
   ]
  },
  {
   "cell_type": "markdown",
   "metadata": {},
   "source": [
    "Here are the four demos that we will go over:\n",
    "\n",
    "- Demo 1: Cross-Site-Scripting Vulnerabilities\n",
    "\n",
    "  In the text field, copy/paste the following line and add item:\n",
    "\n",
    "\t<script>alert(\"Alert! This is an XSS vulnerability\")</script>\n",
    "\n",
    "  Now, reload the page and see what happens.\n",
    "\n",
    "\n",
    "- Demo 1.1: Relfected XSS Vulnerability:\n",
    "\n",
    "  Copy/paste the URL below in and refresh to see effects:\n",
    "\n",
    "\thttp://localhost:1050/?person=%3Cimg%20%20src=%22broken%20link%22%20onerror=%22alert(%27Triggered%27)%22/%3E\n",
    "\n",
    "\n",
    "- Demo 2: SQL Injection\n",
    "\n",
    "  In the text field, copy/paste the following line:\n",
    "\n",
    "\titemName'%3BDELETE FROM todos%3B--\n",
    "\n",
    "  Add the item to the page. Refresh and examine behavior. Now try to delete the\n",
    "  same text field. Do you notice something wrong? Talk with your neighbor about\n",
    "  what happened and possible fixes to the problem.\n",
    "\n",
    "\n",
    "- Demo 3: Clickjacking (optional)\n",
    "\n",
    "  Click the link close to the bottom of the page and see what happens. ;)\n",
    "  You may need to try clicking a few times."
   ]
  }
 ],
 "metadata": {
  "kernelspec": {
   "display_name": "Python 3",
   "language": "python",
   "name": "python3"
  },
  "language_info": {
   "codemirror_mode": {
    "name": "ipython",
    "version": 3
   },
   "file_extension": ".py",
   "mimetype": "text/x-python",
   "name": "python",
   "nbconvert_exporter": "python",
   "pygments_lexer": "ipython3",
   "version": "3.8.3"
  }
 },
 "nbformat": 4,
 "nbformat_minor": 4
}
