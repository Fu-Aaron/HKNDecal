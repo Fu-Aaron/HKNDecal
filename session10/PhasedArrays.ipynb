{
 "cells": [
  {
   "cell_type": "code",
   "execution_count": null,
   "metadata": {},
   "outputs": [],
   "source": [
    "using Pkg\n",
    "Pkg.activate(\".\")"
   ]
  },
  {
   "cell_type": "markdown",
   "metadata": {},
   "source": [
    "![phased array intro image](./phased_array_intro.png)\n",
    "[Image credit: Analog Devices](https://www.analog.com/en/analog-dialogue/articles/phased-array-antenna-patterns-part1.html)"
   ]
  },
  {
   "cell_type": "markdown",
   "metadata": {},
   "source": [
    "In this workbook, we'll be studying the concept of __phased arrays__ of antennas. Unlike the common pop-culture image of a spinning radar dish directing radio waves at an appropriate target, phased arrays can steer a \"beam\" of radio waves without any moving parts (this tends to make a device cheaper and more durable)."
   ]
  },
  {
   "cell_type": "code",
   "execution_count": null,
   "metadata": {},
   "outputs": [],
   "source": [
    "free_path_power_loss(lam, R) = (lam/(4*pi*R))^2\n",
    "isotropic_antenna_characteristic(p::Array, theta::Real, phi::Real) = 1 # p includes all parameters of the antenna\n"
   ]
  },
  {
   "cell_type": "code",
   "execution_count": null,
   "metadata": {},
   "outputs": [],
   "source": [
    "using Plots\n",
    "plotly()\n"
   ]
  },
  {
   "cell_type": "code",
   "execution_count": null,
   "metadata": {},
   "outputs": [],
   "source": [
    "### single antenna\n",
    "lam = 3e-3\n",
    "function antenna_2d_map_db(x, y)\n",
    "    R = sqrt(x^2+y^2)\n",
    "    theta = pi/2 # azimuthal plane\n",
    "    phi = atan(y,x)\n",
    "    pow = free_path_power_loss(lam, R) * isotropic_antenna_characteristic([lam;], theta, phi)\n",
    "    10*log10(pow)\n",
    "end\n",
    "\n",
    "ys = xs = [-1:1/1000:1;]\n",
    "heatmap(xs, ys, antenna_2d_map_db)"
   ]
  },
  {
   "cell_type": "code",
   "execution_count": null,
   "metadata": {},
   "outputs": [],
   "source": [
    "lam = 3e-3\n",
    "N=40\n",
    "d=lam/2\n",
    "gamma = 0\n",
    "params = [lam, N, d, gamma]\n",
    "function make_phased_array_2d_map(p)\n",
    "    lam, N, d, gamma = p\n",
    "    N = Int(N)\n",
    "    function array_2d_map_db(x,y)\n",
    "        R = sqrt(x^2+y^2)\n",
    "        theta = pi / 2\n",
    "        phi = atan(y,x)\n",
    "        \n",
    "        pows = complex(zeros(N))\n",
    "        for i=1:N\n",
    "            xi = d*i\n",
    "            Ri = sqrt((x-xi)^2+y^2)\n",
    "            thetai = pi/2\n",
    "            phii=atan(y,(x-xi))\n",
    "            pow = free_path_power_loss(lam, Ri) * isotropic_antenna_characteristic([lam;], thetai, phii) / N\n",
    "            pows[i] = pow * exp(2pi*im*Ri/lam)\n",
    "            end \n",
    "        return 10*log10(abs(sum(pows)))\n",
    "    end\n",
    "    return array_2d_map_db\n",
    "end\n",
    "\n",
    "ys = xs = [-0.2:1/1000:0.2;]\n",
    "heatmap(xs, ys, make_phased_array_2d_map(params))"
   ]
  },
  {
   "cell_type": "code",
   "execution_count": null,
   "metadata": {},
   "outputs": [],
   "source": [
    "[1:Int(params[2]);]"
   ]
  },
  {
   "cell_type": "code",
   "execution_count": null,
   "metadata": {},
   "outputs": [],
   "source": [
    "complex(zeros(2))"
   ]
  },
  {
   "cell_type": "code",
   "execution_count": null,
   "metadata": {},
   "outputs": [],
   "source": []
  }
 ],
 "metadata": {
  "kernelspec": {
   "display_name": "Julia 1.5.3",
   "language": "julia",
   "name": "julia-1.5"
  },
  "language_info": {
   "file_extension": ".jl",
   "mimetype": "application/julia",
   "name": "julia",
   "version": "1.5.3"
  }
 },
 "nbformat": 4,
 "nbformat_minor": 4
}
