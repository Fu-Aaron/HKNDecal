{
 "cells": [
  {
   "cell_type": "markdown",
   "metadata": {},
   "source": [
    "### HKN DeCal Lab 11\n",
    "## Controls & Embedded Systems Lab\n",
    "By Alex Kristofferson, Simon Guo, & Bryan Ngo"
   ]
  },
  {
   "cell_type": "markdown",
   "metadata": {},
   "source": [
    "## Part A. Understanding Feedback Control\n"
   ]
  },
  {
   "cell_type": "markdown",
   "metadata": {},
   "source": [
    "### Lecture-Recap & Motivation\n",
    "Skip this part if you are comfortable with the lecture content.\n",
    "\n",
    "In the lecture, we talked about embedded systems: systems that process input from the environment and exert some output to achieve specific goals. The system architecture can be summarized in the diagram below.\n",
    "\n",
    "![Embedded System Control Flow](Embedded-Systems.jpg)\n",
    "\n",
    "Since we are operating in a physical world, we must interface with analog signals. \n",
    "1. Sensors typically read in analog signals (e.g., voltage measurement on thermistor that depends on temperature). We must convert to digital for embedded systems to understand.\n",
    "2. When we want to use an actuator to do something (e.g., changing motor speed), we must give the actuator an analog signal (e.g., how many volts for the motor), and that has to be converted from the digital signals.\n",
    "\n",
    "Because of the need for conversion between the digital and analog world, and the physical world is complicated and not always work in our wish, we have some challenges:\n",
    "1. Sensor reading might be noisy and fluctuating; we can use **filtering** to filter out some noise and use Fourier transform to focus on specific frequencies.\n",
    "2. When we output to the actuator, let's say we want the motor to increase to 60 rpm; it might not achieve that precisely since many factors play in the physical world. We must continuously adjust, and that's the topic of this lab, **controls**."
   ]
  },
  {
   "cell_type": "markdown",
   "metadata": {},
   "source": [
    "### What are controls and controllers?\n",
    "\n",
    "Now that we learned about why we need control: to let our actuator perform in the way we want. \n",
    "There are mostly two types of control:\n",
    "\n",
    "**Open-Loop Control** - we calculate the output and give that to the actuator. We just let it run, and we don't know what the effect is or if it is performing at the desired situation we want. Think about powering a fan; you just need it to spin rather than checking if it is at a certain RPM.\n",
    "\n",
    "**Closed-Loop Feedback Control** - As you can see, open-loop control does not solve the issue we mentioned before. Thus, we need a way to adjust the output to the actuator based on the system's situation. **State** is a word that describes the state or specific information about a system at a particular time. \n",
    "\n",
    "For example, you are heating a room. Your state will be the current temperature of the room. You want to reach the desired temperature. If you can measure the current state, you can adjust the power of the heater. If your room is still too cold, you increase the power. If the current temperature is closed to the desired temperature, you can reduce power. If it is over the temperature, you can stop the heater for some time. \n",
    "\n",
    "You just saw an example of a closed-loop feedback system, where the signal to the controller/actuator is based on the state of the system. You are getting **feedback** from the state of the system to adjust your control signals further. \n",
    "\n",
    "To summarize, you continuously apply a signal to the actuator; the actuator does its work. You check the system's updated state, recalculate the new signal needed to the actuator, and repeat. This is like a cycle, so we call this **closed-loop**.\n",
    "\n",
    "There are **many types** of controllers that help us achieve this. They differ in how feedback is weighted or how the state is translated into the new control signal. To name a few:\n",
    "* Proportional–Integral–Derivative (PID) Controller\n",
    "* Linear-Quadratic Regulator (LQR)\n",
    "* Nonlinear Controllers\n",
    "* Robust Control\n",
    "\n",
    "In this lab, we will focus on PID controllers and see how they can be used to stabilize systems that are generally very unstable. Very powerful indeed!"
   ]
  },
  {
   "cell_type": "markdown",
   "metadata": {},
   "source": [
    "## Part B. Proportional–Integral–Derivative (PID) Controller\n",
    "\n",
    "Let's take a look at what PID Controller is and how we can use them.\n",
    "On a high level, the controller calculates an error value, called $e(t)$, representing the difference between the current state and desired state. Having that error value or difference in mind, we can apply a correction input into the system (output signal to the actuator) based on the combined effect of **proportional, integral, and derivative terms**. That is why it is called PID.\n",
    "\n",
    "Here is a diagram that illustrates the process we just described.\n",
    "\n",
    "![PID Control Flow](PID.png)\n",
    "\n",
    "Notice a loop in the diagram. With this closed-loop feedback, our current state can be used to adjust our next control signal, eventually leading the system to **stabilize** around the desired state.\n",
    "\n",
    "The equation is shown below; notice the three terms that apply proportional, integral, and derivative operations on the $e(t)$ value.\n",
    "\n",
    "$$u(t)=K_{\\text{p}}e(t)+K_{\\text{i}}\\int _{0}^{t}e(t')\\,dt'+K_{\\text{d}}{\\frac {de(t)}{dt}}$$\n",
    "\n",
    "$u(t)$ represents the control signal we calculated to apply to the actuator, based on our current state.\n",
    "\n",
    "As mentioned, there are three terms we are using to calculate that $u(t)$. Three $K$ values respectively tune the three methods (proportional, integral, and derivative); you can think about them as weights or coefficients that scale each operation's effect.\n",
    "\n",
    "These $K$ factors are called tuning constants, and they are unique to each application. Determining these factors is an area worth investigating by itself. The unique set of values chosen for these $K$ values create a **controller** from this control method!\n",
    "\n",
    "PID controllers are widely used in cyber-physical systems, such as a car! Try out [this car PID controller demo](https://sites.google.com/site/fpgaandco/pid) and see how you can adjust the 3 $K$ tuning constants to build a PID controller to make the car stable!"
   ]
  },
  {
   "cell_type": "markdown",
   "metadata": {},
   "source": [
    "## Part C. Applying PID Controller to Inverted Pendulum\n",
    "\n",
    "Have you ever balanced a pencil on your finger? Everyone knows that's hard to do. However, with a PID controller, that might be possible!\n",
    "\n",
    "In this part, we will walk through how you will keep an inverted pendulum upright using the PID controller we just learned. This notebook will serve as a simulation, but you can build a system like this in real life. Check out [this demo from EE 128](https://www.youtube.com/watch?v=6MEfrPqvptA). In this case, every time the pendulum is hit (aka the system state changes), we can apply control signals to make it upright again! That's how powerful controls are."
   ]
  },
  {
   "cell_type": "code",
   "execution_count": null,
   "metadata": {},
   "outputs": [],
   "source": [
    "from IPython.display import YouTubeVideo\n",
    "\n",
    "YouTubeVideo('6MEfrPqvptA', width=800, height=300)\n",
    "\n",
    "# Watch the demo below!"
   ]
  },
  {
   "cell_type": "markdown",
   "metadata": {},
   "source": [
    "First, we need to import some libraries to help us with the calculation. \n",
    "Throughout your time at Berkeley, you will be very familiar with `numpy` for doing mathematical operations (particular matrixes), `time` for timing and time-stepping, `matplotlib` for plotting. \n",
    "\n",
    "It is worth noting that many control problems involve significant amounts of linear algebra and matrix operations, and `numpy` is an excellent library for performing matrix operations easily and fast."
   ]
  },
  {
   "cell_type": "code",
   "execution_count": null,
   "metadata": {},
   "outputs": [],
   "source": [
    "import numpy as np, math, time, matplotlib.pyplot as plt, sys\n",
    "from ipywidgets import interact, interactive, fixed, interact_manual\n",
    "import ipywidgets as widgets"
   ]
  },
  {
   "cell_type": "markdown",
   "metadata": {},
   "source": [
    "Here we imagine the system composes of a pendulum on top of a cart. The pendulum is unstable (not upright and is falling), so we must move the cart to keep it stable and balanced. To do so, we can apply a force on the cart at each timestep.\n",
    "\n",
    "Note that we are creating classes for these objects. Object-oriented programming is essential in simulations and representing the physical world. We can create many instances of these objects with these classes, each with associated data representing its physical properties.\n",
    "\n",
    "We mentioned **state** represents the current physical description of the system. In this case, we focus on the pendulum, and the states we account for are its length, theta, and ball_mass. The only state that can change is theta, the angle between the pendulum from its upright position. To keep it upright, we must make theta go to zero.\n",
    "\n",
    "**Our goal**: Apply force on the cart, so theta **reaches** and **stabilizes** at zero (upright position!)"
   ]
  },
  {
   "cell_type": "code",
   "execution_count": null,
   "metadata": {},
   "outputs": [],
   "source": [
    "class Cart:\n",
    "    def __init__(self,x,mass):\n",
    "        self.x = x  \n",
    "        self.y = 0\n",
    "        self.mass = mass\n",
    "\n",
    "class Pendulum:\n",
    "    def __init__(self,length,theta,ball_mass):\n",
    "        self.length = length\n",
    "        self.theta = theta\n",
    "        self.ball_mass = ball_mass"
   ]
  },
  {
   "cell_type": "markdown",
   "metadata": {},
   "source": [
    "Let's initiate some constants for simulation. It is always good to put them at the start of a simulation and declare them as global variables. Here we only need to consider the gravitational constant g. What are some other factors that we can account for in a more complex situation?"
   ]
  },
  {
   "cell_type": "code",
   "execution_count": null,
   "metadata": {},
   "outputs": [],
   "source": [
    "#Constants:\n",
    "g = 9.81"
   ]
  },
  {
   "cell_type": "markdown",
   "metadata": {},
   "source": [
    "Here is our **PID Controller** in action! Recall the equation for our controller:\n",
    "$$u(t)=K_{\\text{p}}e(t)+K_{\\text{i}}\\int _{0}^{t}e(t')\\,dt'+K_{\\text{d}}{\\frac {de(t)}{dt}}$$\n",
    "\n",
    "We are giving the controller our $e(t)$, the difference between the desired state and the current state.\n",
    "We have the gains (the three $K$ constants) tuned and passed in here. With this information, we can amplify the effect of proportional, integral, and derivative operations on the $e(t)$ by the three $K$ constants, respectively. The combined effect is our control signal $u(t)$!\n",
    "\n",
    "This controller now gives us the input to the actuator/force that we would like the actuator to perform! We will keep using the controller to calculate the next control signal, based on every new state of our $e(t)$. Hopefully, we will make the pendulum upright over time!"
   ]
  },
  {
   "cell_type": "code",
   "execution_count": null,
   "metadata": {},
   "outputs": [],
   "source": [
    "def PID_Control(cart, pendulum, dt, error, previous_error, integral, Kp=-150, Kd=-20, Ki=-20):\n",
    "    # Using PID to find control inputs\n",
    "\n",
    "    # The gains were emperically tuned\n",
    "\n",
    "    derivative = (error - previous_error) / dt\n",
    "    integral += error * dt\n",
    "    Output_force = (Kp * error) + (Kd * derivative) + (Ki * integral)\n",
    "    return Output_force, integral"
   ]
  },
  {
   "cell_type": "markdown",
   "metadata": {},
   "source": [
    "Here is some code translating the force into physical effect on the cart position. It also determines the pendulum's angle/orientation after the output force is applied to the system by the actuator. Remember that our PID controller calculated the force/control signal! After we apply this force, our state of the pendulum changes, `pendulum.theta`, so we can use this new state to feed into the PID controller again in the next timestep."
   ]
  },
  {
   "cell_type": "code",
   "execution_count": null,
   "metadata": {},
   "outputs": [],
   "source": [
    "#These apply a force F using the equations of motion for the cart and pendulum.\n",
    "\n",
    "def Apply_Force(cart, pendulum, F, dtime, x_2, dtheta, theta_2, previous_dtime):\n",
    "    \n",
    "    a_theta = (((cart.mass + pendulum.ball_mass) * g * math.sin(pendulum.theta)) + (F * math.cos(pendulum.theta)) - \\\n",
    "        (pendulum.ball_mass * ((dtheta)**2.0) * pendulum.length * math.sin(pendulum.theta) * math.cos(pendulum.theta))) \\\n",
    "         / (pendulum.length * (cart.mass + (pendulum.ball_mass * (math.sin(pendulum.theta)**2.0)))) \n",
    "    \n",
    "    a_x = ((pendulum.ball_mass * g * math.sin(pendulum.theta) * math.cos(pendulum.theta)) - \\\n",
    "        (pendulum.ball_mass * pendulum.length * math.sin(pendulum.theta) * (dtheta**2)) + (F)) \\\n",
    "         / (cart.mass + (pendulum.ball_mass * (math.sin(pendulum.theta)**2)))\n",
    "    \n",
    "    cart.x += ((dtime**2) * a_x) + (((cart.x - x_2) * dtime) / previous_dtime)\n",
    "    \n",
    "    pendulum.theta += ((dtime**2)*a_theta) + (((pendulum.theta - theta_2)*dtime) / previous_dtime)\n"
   ]
  },
  {
   "cell_type": "markdown",
   "metadata": {},
   "source": [
    "Here is our implementation of $e(t)$, the difference between the current state (theta of the pendulum) and the desired state. Remember, we want our pendulum to be upright, so the desired theta will be 0 as theta is the angular difference between the pendulum and the upright position. "
   ]
  },
  {
   "cell_type": "code",
   "execution_count": null,
   "metadata": {},
   "outputs": [],
   "source": [
    "def find_error(pendulum):\n",
    "\n",
    "    # This function returns the error\n",
    "    error = (pendulum.theta % (2 * math.pi)) - 0\n",
    "    if error > math.pi:\n",
    "        error -= (2 * math.pi)\n",
    "    return error"
   ]
  },
  {
   "cell_type": "markdown",
   "metadata": {},
   "source": [
    "Helper function for visualization. We would like to see the following information.\n",
    "* **errors**, or $e(t)$, how far away the pendulum is from upright position \n",
    "* **theta**, the state of the pendulum, which is the angular position of the pendulum.\n",
    "* **force**, or $u(t)$, the output from our PID controller\n",
    "* **x**, or `cart.x`, the location of the cart on the x-axis"
   ]
  },
  {
   "cell_type": "code",
   "execution_count": null,
   "metadata": {},
   "outputs": [],
   "source": [
    "def plot_graphs(times,errors,theta,force,x):\n",
    "    # This function plots all the graphs\n",
    "    plt.figure(figsize=(20,10))\n",
    "    \n",
    "    plt.subplot(4, 1, 1)\n",
    "    plt.plot(times,errors,'-b')\n",
    "    plt.ylabel('Error')\n",
    "    plt.xlabel('Time')\n",
    "\n",
    "    plt.subplot(4, 1, 2)\n",
    "    plt.plot(times,theta,'-b')\n",
    "    plt.ylabel('Theta')\n",
    "    plt.xlabel('Time')\n",
    "\n",
    "    plt.subplot(4, 1, 3)\n",
    "    plt.plot(times,force,'-b')\n",
    "    plt.ylabel('Force')\n",
    "    plt.xlabel('Time')\n",
    "\n",
    "    plt.subplot(4, 1, 4)\n",
    "    plt.plot(times,x,'-b')\n",
    "    plt.ylabel('X')\n",
    "    plt.xlabel('Time')\n",
    "\n",
    "    plt.show()"
   ]
  },
  {
   "cell_type": "markdown",
   "metadata": {},
   "source": [
    "Putting all components together to build a simulation of our controller trying to balance the Pendulum, over a period of time."
   ]
  },
  {
   "cell_type": "code",
   "execution_count": null,
   "metadata": {},
   "outputs": [],
   "source": [
    "#Making it a function so we can reuse it and use it wrapper functions\n",
    "\n",
    "def runSim(mass_of_cart=5, mass_of_ball=1, Kp=-150, Kd=-20, Ki=-20):\n",
    "    \n",
    "    print(\"Simulating with mass_of_cart={0}, mass_of_ball={1}, Kp={2}, Kd={3}, Ki={4}...\".format(mass_of_cart, mass_of_ball, Kp, Kd, Ki))\n",
    "    \n",
    "    # instantiates cart and pendulum objects\n",
    "    cart = Cart(0, mass_of_cart)\n",
    "    pendulum = Pendulum(1, 0.3, mass_of_ball)\n",
    "    \n",
    "    # Record data for plotting\n",
    "    errors, force, theta, times, x = [],[],[],[],[]\n",
    "    simulation_time = 5 # if you have more memory, feel free to increase this\n",
    "    previous_timestamp = time.time()\n",
    "    start_time = previous_timestamp\n",
    "    end_time = previous_timestamp + simulation_time\n",
    "    \n",
    "    d_theta = 0\n",
    "    theta_1 = theta_2 = pendulum.theta # x_{t-1} = x_{t-2} = pendulum starting point\n",
    "    x_1 = x_2 = cart.x\n",
    "    previous_error = find_error(pendulum)\n",
    "    integral = 0\n",
    "    previous_dtime = 0\n",
    "    \n",
    "    while time.time() <= end_time:\n",
    "    \n",
    "        #calculating timestep (dtime) and the current error.\n",
    "        current_timestamp = time.time()\n",
    "        dtime = (current_timestamp - previous_timestamp)\n",
    "        error = find_error(pendulum)\n",
    "    \n",
    "        if previous_dtime != 0: # This condition is to make sure that theta_dot is not infinity in the first step\n",
    "        \n",
    "        \n",
    "            #finding the derivatives of the angle and x position over the timestep.\n",
    "            d_theta = (theta_1 - theta_2 ) / previous_dtime\n",
    "            d_x = (x_1 - x_2) / previous_dtime\n",
    "        \n",
    "            #finding the control and applying it to the card.\n",
    "            F,integral = PID_Control(cart, pendulum, dtime, error, previous_error, integral, Kp=Kp, Kd=Kd, Ki=Ki)\n",
    "            Apply_Force(cart, pendulum, F, dtime, x_2, d_theta, theta_2, previous_dtime)\n",
    "        \n",
    "            # For plotting the graphs\n",
    "        \n",
    "            force.append(F)            \n",
    "            x.append(cart.x)\n",
    "            errors.append(error)\n",
    "            times.append(current_timestamp - start_time)\n",
    "            theta.append(pendulum.theta)\n",
    "        \n",
    "        # Update the variables\n",
    "        \n",
    "        previous_dtime = dtime\n",
    "        previous_timestamp = current_timestamp\n",
    "        previous_error = error\n",
    "    \n",
    "        theta_2 = theta_1\n",
    "        theta_1 = pendulum.theta\n",
    "        x_2 = x_1\n",
    "        x_1 = cart.x\n",
    "\n",
    "    plot_graphs(times,errors,theta,force,x)\n",
    "    print(\"Done.\")"
   ]
  },
  {
   "cell_type": "markdown",
   "metadata": {},
   "source": [
    "### PID Controller in Action\n",
    "\n",
    "We have built the simulation so let's now run it! See how overtime, the PID controller is applying forces (see *Force*) based on the state (*Theta* and *Error*), and eventually bringing the error to 0, meaning we have successfully kept our Pendulum upright!\n",
    "\n",
    "Try the following!\n",
    "1. Observe the graph. Do you see some oscillations? Do we sometimes overcorrect? Do you notice how closed-loop feedback control can eventually bring everything to stability in the end?\n",
    "2. Adjust the `mass_of_cart` and `mass_of_ball`. See how changing the physical properties of the simulation changes the graph.\n",
    "3. Adjust the `Kp`, `Kd`, `Ki`. We know these are constants (or gains) that amplify proportional, integral, and derivative operations, whose weighted net effect generates the force applied. These constants define each controller, so try to change them and see how the system responds. Are you able to create a controller that brings the system to stability faster?\n",
    "\n",
    "<font color='red'>**Warning:**</font> The notebook might take some time to recalculate and plot every time you move the slider. This notebook also suffers from intensive memory usage. Thus after a few slider adjustments, we recommend you restart kernel and run all to release some of the memories used and then continue to try new values. Alternatively, you can manually input the parameter into the argument of the `interact` function.\n"
   ]
  },
  {
   "cell_type": "code",
   "execution_count": null,
   "metadata": {},
   "outputs": [],
   "source": [
    "interact(runSim, mass_of_cart=widgets.IntSlider(min=1, max=10, step=1, value=5), \\\n",
    "                 mass_of_ball=widgets.IntSlider(min=1, max=10, step=1, value=1), \\\n",
    "                 Kp=widgets.IntSlider(min=-200, max=200, step=5, value=-150), \\\n",
    "                 Kd=widgets.IntSlider(min=-200, max=200, step=5, value=-20), \\\n",
    "                 Ki=widgets.IntSlider(min=-200, max=200, step=5, value=-20))"
   ]
  },
  {
   "cell_type": "markdown",
   "metadata": {},
   "source": [
    "## Congratulations! \n",
    "You now know what control is and how a PID controller works! Note, PID is only one approach, where we use proportional, integral, derivative operations on $e(t)$. Can you come up with a different controller? What are the pros and cons of each kind of controller? How can you decide when to use which one? How do you determine the gains/tuning constants/ $K$? These are all things that you can explore throughout your journey at Berkeley EECS.\n",
    "\n",
    "To summarize this lab, the key takeaways are:\n",
    "1. Embedded Systems sense information and perform actions.\n",
    "2. The real world is complicated, and when we perform actions, we might not reach the goal at one go. We need constant adjustment to get to and stabilize at the desired state.\n",
    "3. We can design a closed-loop feedback system, where the signal to the actuator is dependant on the current state of the system. In other words, the output of the controller depends on the previous input into the controller (the state). \n",
    "4. We learned about how a PID controller works. It uses proportional, integral, and derivative operations to create a control signal. We scale each operation by applying a gain/tuning constant/ $K$ / weight. These $K$ values are characteristics of our PID controller.\n",
    "5. We simulated this controller by building a physics engine and evaluated its performance. We tried to improve its performance by adjusting the $K$ values (aka updating our controller design). "
   ]
  },
  {
   "cell_type": "markdown",
   "metadata": {},
   "source": [
    "## Resources\n",
    "If you find this interesting, check out these courses you can take at Berkeley!\n",
    "\n",
    "* EECS 16B - Designing Information Devices and Systems II\n",
    "* EE C106A - Introduction to Robotics\n",
    "* EE C106B - Robotic Manipulation and Interaction\n",
    "* EE 120 - Signals and Systems\n",
    "* EECS 126 - Probability and Random Processes\n",
    "* EE C128 - Feedback Controls\n",
    "* EE 221A - Linear Systems\n",
    "* EE 222 - Nonlinear Systems\n",
    "\n",
    "Controls are incredibly important and useful for building embedded systems, robots, and machine learning applications. This is definitely something worth learning."
   ]
  },
  {
   "cell_type": "markdown",
   "metadata": {},
   "source": [
    "## References\n",
    "\n",
    "Thanks to the work of these folks!\n",
    "* https://github.com/Nikkhil16/Inverted_Pendulum,\n",
    "* https://sites.google.com/site/fpgaandco/pid\n",
    "* https://www.moorepants.info/blog/npendulum.html\n",
    "* https://github.com/gilbertgede/idetc-2013-paper/blob/master/n-pendulum-control.ipynb,"
   ]
  }
 ],
 "metadata": {
  "kernelspec": {
   "display_name": "Python 3",
   "language": "python",
   "name": "python3"
  },
  "language_info": {
   "codemirror_mode": {
    "name": "ipython",
    "version": 3
   },
   "file_extension": ".py",
   "mimetype": "text/x-python",
   "name": "python",
   "nbconvert_exporter": "python",
   "pygments_lexer": "ipython3",
   "version": "3.8.5"
  }
 },
 "nbformat": 4,
 "nbformat_minor": 2
}
